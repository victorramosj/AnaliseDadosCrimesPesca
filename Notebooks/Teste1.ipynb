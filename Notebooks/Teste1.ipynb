{
 "cells": [
  {
   "cell_type": "code",
   "execution_count": 7,
   "metadata": {},
   "outputs": [
    {
     "ename": "TypeError",
     "evalue": "scatter() missing 1 required positional argument: 'y'",
     "output_type": "error",
     "traceback": [
      "\u001b[1;31m---------------------------------------------------------------------------\u001b[0m",
      "\u001b[1;31mTypeError\u001b[0m                                 Traceback (most recent call last)",
      "Cell \u001b[1;32mIn[7], line 7\u001b[0m\n\u001b[0;32m      5\u001b[0m x \u001b[39m=\u001b[39m a[\u001b[39m'\u001b[39m\u001b[39mData do registro\u001b[39m\u001b[39m'\u001b[39m]\n\u001b[0;32m      6\u001b[0m y \u001b[39m=\u001b[39m a[\u001b[39m'\u001b[39m\u001b[39mNome comum\u001b[39m\u001b[39m'\u001b[39m]\n\u001b[1;32m----> 7\u001b[0m plt\u001b[39m.\u001b[39;49mscatter(x)\n\u001b[0;32m      8\u001b[0m plt\u001b[39m.\u001b[39mxlabel(\u001b[39m'\u001b[39m\u001b[39mData do registro\u001b[39m\u001b[39m'\u001b[39m)  \u001b[39m# Substitua 'Eixo X' pelo rótulo do eixo x\u001b[39;00m\n\u001b[0;32m      9\u001b[0m plt\u001b[39m.\u001b[39mylabel(\u001b[39m'\u001b[39m\u001b[39mNome comum\u001b[39m\u001b[39m'\u001b[39m)  \u001b[39m# Substitua 'Eixo Y' pelo rótulo do eixo y\u001b[39;00m\n",
      "\u001b[1;31mTypeError\u001b[0m: scatter() missing 1 required positional argument: 'y'"
     ]
    }
   ],
   "source": [
    "import matplotlib.pyplot as plt\n",
    "import pandas as pd\n",
    "a = pd.read_csv('./registroB.csv', sep=',')\n",
    "\n",
    "x = a['Data do registro']\n",
    "y = a['Nome comum']\n",
    "plt.scatter(x,y)\n",
    "plt.xlabel('Data do registro')  # Substitua 'Eixo X' pelo rótulo do eixo x\n",
    "plt.ylabel('Nome comum')  # Substitua 'Eixo Y' pelo rótulo do eixo y\n",
    "plt.title('Gráfico de Dispersão')\n",
    "plt.show()\n",
    "\n"
   ]
  },
  {
   "cell_type": "markdown",
   "metadata": {},
   "source": []
  },
  {
   "cell_type": "markdown",
   "metadata": {},
   "source": []
  },
  {
   "cell_type": "code",
   "execution_count": null,
   "metadata": {},
   "outputs": [],
   "source": []
  }
 ],
 "metadata": {
  "kernelspec": {
   "display_name": "Python 3",
   "language": "python",
   "name": "python3"
  },
  "language_info": {
   "codemirror_mode": {
    "name": "ipython",
    "version": 3
   },
   "file_extension": ".py",
   "mimetype": "text/x-python",
   "name": "python",
   "nbconvert_exporter": "python",
   "pygments_lexer": "ipython3",
   "version": "3.11.4"
  },
  "orig_nbformat": 4
 },
 "nbformat": 4,
 "nbformat_minor": 2
}
