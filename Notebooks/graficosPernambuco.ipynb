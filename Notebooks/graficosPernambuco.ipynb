{
 "cells": [
  {
   "cell_type": "code",
   "execution_count": 18,
   "metadata": {},
   "outputs": [
    {
     "name": "stdout",
     "output_type": "stream",
     "text": [
      "Baía do Sueste Denúncias:786\n",
      "Porto Santo Antonio Denúncias:411\n",
      "Biboca Denúncias:53\n",
      "Boldró Denúncias:36\n",
      "Caieiras Denúncias:25\n",
      "Sancho Denúncias:22\n",
      "Baía dos Porcos Denúncias:15\n",
      "Leão Denúncias:13\n",
      "Ilha do Meio Denúncias:8\n",
      "Conceição Denúncias:3\n",
      "Praia da Atalaia Denúncias:2\n",
      "Ilha Sela Gineta Denúncias:2\n",
      "Morro Dois Irmãos Denúncias:2\n",
      "Morro de Fora Denúncias:1\n",
      "Ilha São José Denúncias:1\n",
      "Ilha Rasa Denúncias:1\n",
      "Pedras Secas Denúncias:1\n",
      "Localidades não encontradas:\n",
      "Caverna da Sapata Denúncias:3\n",
      "Buraco do Inferno Denúncias:16\n",
      "Canal da Ressureta Denúncias:11\n",
      "Outras Praias Denúncias:2\n",
      "Ilha da Rata Denúncias:2\n",
      "Pontal do Norte Denúncias:1\n",
      "Buraco da Raquel Denúncias:1\n",
      "Sem Informações Denúncias:6\n",
      "Enseada das Cagarras Denúncias:36\n",
      "Cabras Denúncias:10\n"
     ]
    },
    {
     "data": {
      "text/html": [
       "<div style=\"width:100%;\"><div style=\"position:relative;width:100%;height:0;padding-bottom:60%;\"><span style=\"color:#565656\">Make this Notebook Trusted to load map: File -> Trust Notebook</span><iframe srcdoc=\"&lt;!DOCTYPE html&gt;\n",
       "&lt;html&gt;\n",
       "&lt;head&gt;\n",
       "    \n",
       "    &lt;meta http-equiv=&quot;content-type&quot; content=&quot;text/html; charset=UTF-8&quot; /&gt;\n",
       "    \n",
       "        &lt;script&gt;\n",
       "            L_NO_TOUCH = false;\n",
       "            L_DISABLE_3D = false;\n",
       "        &lt;/script&gt;\n",
       "    \n",
       "    &lt;style&gt;html, body {width: 100%;height: 100%;margin: 0;padding: 0;}&lt;/style&gt;\n",
       "    &lt;style&gt;#map {position:absolute;top:0;bottom:0;right:0;left:0;}&lt;/style&gt;\n",
       "    &lt;script src=&quot;https://cdn.jsdelivr.net/npm/leaflet@1.9.3/dist/leaflet.js&quot;&gt;&lt;/script&gt;\n",
       "    &lt;script src=&quot;https://code.jquery.com/jquery-1.12.4.min.js&quot;&gt;&lt;/script&gt;\n",
       "    &lt;script src=&quot;https://cdn.jsdelivr.net/npm/bootstrap@5.2.2/dist/js/bootstrap.bundle.min.js&quot;&gt;&lt;/script&gt;\n",
       "    &lt;script src=&quot;https://cdnjs.cloudflare.com/ajax/libs/Leaflet.awesome-markers/2.0.2/leaflet.awesome-markers.js&quot;&gt;&lt;/script&gt;\n",
       "    &lt;link rel=&quot;stylesheet&quot; href=&quot;https://cdn.jsdelivr.net/npm/leaflet@1.9.3/dist/leaflet.css&quot;/&gt;\n",
       "    &lt;link rel=&quot;stylesheet&quot; href=&quot;https://cdn.jsdelivr.net/npm/bootstrap@5.2.2/dist/css/bootstrap.min.css&quot;/&gt;\n",
       "    &lt;link rel=&quot;stylesheet&quot; href=&quot;https://netdna.bootstrapcdn.com/bootstrap/3.0.0/css/bootstrap.min.css&quot;/&gt;\n",
       "    &lt;link rel=&quot;stylesheet&quot; href=&quot;https://cdn.jsdelivr.net/npm/@fortawesome/fontawesome-free@6.2.0/css/all.min.css&quot;/&gt;\n",
       "    &lt;link rel=&quot;stylesheet&quot; href=&quot;https://cdnjs.cloudflare.com/ajax/libs/Leaflet.awesome-markers/2.0.2/leaflet.awesome-markers.css&quot;/&gt;\n",
       "    &lt;link rel=&quot;stylesheet&quot; href=&quot;https://cdn.jsdelivr.net/gh/python-visualization/folium/folium/templates/leaflet.awesome.rotate.min.css&quot;/&gt;\n",
       "    \n",
       "            &lt;meta name=&quot;viewport&quot; content=&quot;width=device-width,\n",
       "                initial-scale=1.0, maximum-scale=1.0, user-scalable=no&quot; /&gt;\n",
       "            &lt;style&gt;\n",
       "                #map_6136be8f5e968b932d961520f194d554 {\n",
       "                    position: relative;\n",
       "                    width: 100.0%;\n",
       "                    height: 100.0%;\n",
       "                    left: 0.0%;\n",
       "                    top: 0.0%;\n",
       "                }\n",
       "                .leaflet-container { font-size: 1rem; }\n",
       "            &lt;/style&gt;\n",
       "        \n",
       "&lt;/head&gt;\n",
       "&lt;body&gt;\n",
       "    \n",
       "    \n",
       "            &lt;div class=&quot;folium-map&quot; id=&quot;map_6136be8f5e968b932d961520f194d554&quot; &gt;&lt;/div&gt;\n",
       "        \n",
       "&lt;/body&gt;\n",
       "&lt;script&gt;\n",
       "    \n",
       "    \n",
       "            var map_6136be8f5e968b932d961520f194d554 = L.map(\n",
       "                &quot;map_6136be8f5e968b932d961520f194d554&quot;,\n",
       "                {\n",
       "                    center: [-3.84036, -32.4113],\n",
       "                    crs: L.CRS.EPSG3857,\n",
       "                    zoom: 14,\n",
       "                    zoomControl: true,\n",
       "                    preferCanvas: false,\n",
       "                }\n",
       "            );\n",
       "\n",
       "            \n",
       "\n",
       "        \n",
       "    \n",
       "            var tile_layer_1077b49da95a5ef788efb47b1c4bbd96 = L.tileLayer(\n",
       "                &quot;https://{s}.tile.openstreetmap.org/{z}/{x}/{y}.png&quot;,\n",
       "                {&quot;attribution&quot;: &quot;Data by \\u0026copy; \\u003ca target=\\&quot;_blank\\&quot; href=\\&quot;http://openstreetmap.org\\&quot;\\u003eOpenStreetMap\\u003c/a\\u003e, under \\u003ca target=\\&quot;_blank\\&quot; href=\\&quot;http://www.openstreetmap.org/copyright\\&quot;\\u003eODbL\\u003c/a\\u003e.&quot;, &quot;detectRetina&quot;: false, &quot;maxNativeZoom&quot;: 18, &quot;maxZoom&quot;: 18, &quot;minZoom&quot;: 0, &quot;noWrap&quot;: false, &quot;opacity&quot;: 1, &quot;subdomains&quot;: &quot;abc&quot;, &quot;tms&quot;: false}\n",
       "            ).addTo(map_6136be8f5e968b932d961520f194d554);\n",
       "        \n",
       "    \n",
       "            var marker_b1101799d765fd5e3f62970cde0c5a84 = L.marker(\n",
       "                [-3.84036, -32.4113],\n",
       "                {}\n",
       "            ).addTo(map_6136be8f5e968b932d961520f194d554);\n",
       "        \n",
       "    \n",
       "            var icon_9aa1eace506cddf997fc85db40588166 = L.AwesomeMarkers.icon(\n",
       "                {&quot;extraClasses&quot;: &quot;fa-rotate-0&quot;, &quot;icon&quot;: &quot;info-sign&quot;, &quot;iconColor&quot;: &quot;white&quot;, &quot;markerColor&quot;: &quot;blue&quot;, &quot;prefix&quot;: &quot;glyphicon&quot;}\n",
       "            );\n",
       "            marker_b1101799d765fd5e3f62970cde0c5a84.setIcon(icon_9aa1eace506cddf997fc85db40588166);\n",
       "        \n",
       "    \n",
       "        var popup_b08bbda19d57343b6af63ce49bc21755 = L.popup({&quot;maxWidth&quot;: 350});\n",
       "\n",
       "        \n",
       "            \n",
       "                var html_6ef522b32572d368e7e53534d78334e5 = $(`&lt;div id=&quot;html_6ef522b32572d368e7e53534d78334e5&quot; style=&quot;width: 100.0%; height: 100.0%;&quot;&gt;Fernando de Noronha &lt;br&gt; Localidades não encontradas: 0;&lt;br&gt;Denúncias das localidades não encontradas: 0;&lt;br&gt;Localidades encontradas: 1;&lt;br&gt; Denúncias das localidades encontradas: 786.&lt;/div&gt;`)[0];\n",
       "                popup_b08bbda19d57343b6af63ce49bc21755.setContent(html_6ef522b32572d368e7e53534d78334e5);\n",
       "            \n",
       "        \n",
       "\n",
       "        marker_b1101799d765fd5e3f62970cde0c5a84.bindPopup(popup_b08bbda19d57343b6af63ce49bc21755)\n",
       "        ;\n",
       "\n",
       "        \n",
       "    \n",
       "    \n",
       "            var circle_9ca00a55893a3ea744180b1021ac19c6 = L.circle(\n",
       "                [-3.8713322, -32.4244292],\n",
       "                {&quot;bubblingMouseEvents&quot;: true, &quot;color&quot;: &quot;#494c52&quot;, &quot;dashArray&quot;: null, &quot;dashOffset&quot;: null, &quot;fill&quot;: true, &quot;fillColor&quot;: &quot;#494c52&quot;, &quot;fillOpacity&quot;: 0.7, &quot;fillRule&quot;: &quot;evenodd&quot;, &quot;lineCap&quot;: &quot;round&quot;, &quot;lineJoin&quot;: &quot;round&quot;, &quot;opacity&quot;: 1.0, &quot;radius&quot;: 550.0, &quot;stroke&quot;: true, &quot;weight&quot;: 3}\n",
       "            ).addTo(map_6136be8f5e968b932d961520f194d554);\n",
       "        \n",
       "    \n",
       "        var popup_dd6fffc876c0c81f048d57b8f58c23f3 = L.popup({&quot;maxWidth&quot;: 430});\n",
       "\n",
       "        \n",
       "            \n",
       "                var html_fd87823e0aefb3abb915e2a833abaa6a = $(`&lt;div id=&quot;html_fd87823e0aefb3abb915e2a833abaa6a&quot; style=&quot;width: 100.0%; height: 100.0%;&quot;&gt;Baía do Sueste&lt;br&gt;Denúncias:786&lt;/div&gt;`)[0];\n",
       "                popup_dd6fffc876c0c81f048d57b8f58c23f3.setContent(html_fd87823e0aefb3abb915e2a833abaa6a);\n",
       "            \n",
       "        \n",
       "\n",
       "        circle_9ca00a55893a3ea744180b1021ac19c6.bindPopup(popup_dd6fffc876c0c81f048d57b8f58c23f3)\n",
       "        ;\n",
       "\n",
       "        \n",
       "    \n",
       "    \n",
       "            var marker_d92df594ebaf9c6e40fb3b26d9610c71 = L.marker(\n",
       "                [-3.84036, -32.4113],\n",
       "                {}\n",
       "            ).addTo(map_6136be8f5e968b932d961520f194d554);\n",
       "        \n",
       "    \n",
       "            var icon_3d1363307e7d21e7a05ec6f9f1a80d6e = L.AwesomeMarkers.icon(\n",
       "                {&quot;extraClasses&quot;: &quot;fa-rotate-0&quot;, &quot;icon&quot;: &quot;info-sign&quot;, &quot;iconColor&quot;: &quot;white&quot;, &quot;markerColor&quot;: &quot;blue&quot;, &quot;prefix&quot;: &quot;glyphicon&quot;}\n",
       "            );\n",
       "            marker_d92df594ebaf9c6e40fb3b26d9610c71.setIcon(icon_3d1363307e7d21e7a05ec6f9f1a80d6e);\n",
       "        \n",
       "    \n",
       "        var popup_7f0181fd055199e786a0690fc1c56240 = L.popup({&quot;maxWidth&quot;: 350});\n",
       "\n",
       "        \n",
       "            \n",
       "                var html_e864593eb08c3ac59abc5bc41227af8b = $(`&lt;div id=&quot;html_e864593eb08c3ac59abc5bc41227af8b&quot; style=&quot;width: 100.0%; height: 100.0%;&quot;&gt;Fernando de Noronha &lt;br&gt; Localidades não encontradas: 0;&lt;br&gt;Denúncias das localidades não encontradas: 0;&lt;br&gt;Localidades encontradas: 2;&lt;br&gt; Denúncias das localidades encontradas: 1197.&lt;/div&gt;`)[0];\n",
       "                popup_7f0181fd055199e786a0690fc1c56240.setContent(html_e864593eb08c3ac59abc5bc41227af8b);\n",
       "            \n",
       "        \n",
       "\n",
       "        marker_d92df594ebaf9c6e40fb3b26d9610c71.bindPopup(popup_7f0181fd055199e786a0690fc1c56240)\n",
       "        ;\n",
       "\n",
       "        \n",
       "    \n",
       "    \n",
       "            var circle_9a7879732d298b92f16f1dd3f2f88ae1 = L.circle(\n",
       "                [-3.834059, -32.4020088],\n",
       "                {&quot;bubblingMouseEvents&quot;: true, &quot;color&quot;: &quot;#8c3d04&quot;, &quot;dashArray&quot;: null, &quot;dashOffset&quot;: null, &quot;fill&quot;: true, &quot;fillColor&quot;: &quot;#8c3d04&quot;, &quot;fillOpacity&quot;: 0.7, &quot;fillRule&quot;: &quot;evenodd&quot;, &quot;lineCap&quot;: &quot;round&quot;, &quot;lineJoin&quot;: &quot;round&quot;, &quot;opacity&quot;: 1.0, &quot;radius&quot;: 311.14649681528664, &quot;stroke&quot;: true, &quot;weight&quot;: 3}\n",
       "            ).addTo(map_6136be8f5e968b932d961520f194d554);\n",
       "        \n",
       "    \n",
       "        var popup_69ada58fa63ab7601ea78eba0b3fc9ab = L.popup({&quot;maxWidth&quot;: 430});\n",
       "\n",
       "        \n",
       "            \n",
       "                var html_91c98bbb17d331d8b55b1706ab60697a = $(`&lt;div id=&quot;html_91c98bbb17d331d8b55b1706ab60697a&quot; style=&quot;width: 100.0%; height: 100.0%;&quot;&gt;Porto Santo Antonio&lt;br&gt;Denúncias:411&lt;/div&gt;`)[0];\n",
       "                popup_69ada58fa63ab7601ea78eba0b3fc9ab.setContent(html_91c98bbb17d331d8b55b1706ab60697a);\n",
       "            \n",
       "        \n",
       "\n",
       "        circle_9a7879732d298b92f16f1dd3f2f88ae1.bindPopup(popup_69ada58fa63ab7601ea78eba0b3fc9ab)\n",
       "        ;\n",
       "\n",
       "        \n",
       "    \n",
       "    \n",
       "            var marker_4f936db1043d39fd4e8ecea6c865556e = L.marker(\n",
       "                [-3.84036, -32.4113],\n",
       "                {}\n",
       "            ).addTo(map_6136be8f5e968b932d961520f194d554);\n",
       "        \n",
       "    \n",
       "            var icon_233e33425cb387c8357fb75b39e8f68b = L.AwesomeMarkers.icon(\n",
       "                {&quot;extraClasses&quot;: &quot;fa-rotate-0&quot;, &quot;icon&quot;: &quot;info-sign&quot;, &quot;iconColor&quot;: &quot;white&quot;, &quot;markerColor&quot;: &quot;blue&quot;, &quot;prefix&quot;: &quot;glyphicon&quot;}\n",
       "            );\n",
       "            marker_4f936db1043d39fd4e8ecea6c865556e.setIcon(icon_233e33425cb387c8357fb75b39e8f68b);\n",
       "        \n",
       "    \n",
       "        var popup_97c868bd6f059e4000e823e84d1ea18c = L.popup({&quot;maxWidth&quot;: 350});\n",
       "\n",
       "        \n",
       "            \n",
       "                var html_11dd2be5da3e544ee78f102b591eb8dc = $(`&lt;div id=&quot;html_11dd2be5da3e544ee78f102b591eb8dc&quot; style=&quot;width: 100.0%; height: 100.0%;&quot;&gt;Fernando de Noronha &lt;br&gt; Localidades não encontradas: 0;&lt;br&gt;Denúncias das localidades não encontradas: 0;&lt;br&gt;Localidades encontradas: 3;&lt;br&gt; Denúncias das localidades encontradas: 1250.&lt;/div&gt;`)[0];\n",
       "                popup_97c868bd6f059e4000e823e84d1ea18c.setContent(html_11dd2be5da3e544ee78f102b591eb8dc);\n",
       "            \n",
       "        \n",
       "\n",
       "        marker_4f936db1043d39fd4e8ecea6c865556e.bindPopup(popup_97c868bd6f059e4000e823e84d1ea18c)\n",
       "        ;\n",
       "\n",
       "        \n",
       "    \n",
       "    \n",
       "            var circle_5d64392337914d3b13a99e2274ca86cd = L.circle(\n",
       "                [-3.83774195, -32.405914323871855],\n",
       "                {&quot;bubblingMouseEvents&quot;: true, &quot;color&quot;: &quot;#c48f57&quot;, &quot;dashArray&quot;: null, &quot;dashOffset&quot;: null, &quot;fill&quot;: true, &quot;fillColor&quot;: &quot;#c48f57&quot;, &quot;fillOpacity&quot;: 0.7, &quot;fillRule&quot;: &quot;evenodd&quot;, &quot;lineCap&quot;: &quot;round&quot;, &quot;lineJoin&quot;: &quot;round&quot;, &quot;opacity&quot;: 1.0, &quot;radius&quot;: 83.12101910828025, &quot;stroke&quot;: true, &quot;weight&quot;: 3}\n",
       "            ).addTo(map_6136be8f5e968b932d961520f194d554);\n",
       "        \n",
       "    \n",
       "        var popup_3e934a169eadace1cab07db018768218 = L.popup({&quot;maxWidth&quot;: 430});\n",
       "\n",
       "        \n",
       "            \n",
       "                var html_4ccc0cc3cf3b5fa1027ed9d1ca13fb96 = $(`&lt;div id=&quot;html_4ccc0cc3cf3b5fa1027ed9d1ca13fb96&quot; style=&quot;width: 100.0%; height: 100.0%;&quot;&gt;Biboca&lt;br&gt;Denúncias:53&lt;/div&gt;`)[0];\n",
       "                popup_3e934a169eadace1cab07db018768218.setContent(html_4ccc0cc3cf3b5fa1027ed9d1ca13fb96);\n",
       "            \n",
       "        \n",
       "\n",
       "        circle_5d64392337914d3b13a99e2274ca86cd.bindPopup(popup_3e934a169eadace1cab07db018768218)\n",
       "        ;\n",
       "\n",
       "        \n",
       "    \n",
       "    \n",
       "            var marker_5c04ed7ba410cad2228836e5f6c06197 = L.marker(\n",
       "                [-3.84036, -32.4113],\n",
       "                {}\n",
       "            ).addTo(map_6136be8f5e968b932d961520f194d554);\n",
       "        \n",
       "    \n",
       "            var icon_b5414dadd553ac33b1e9166bfe3a7c20 = L.AwesomeMarkers.icon(\n",
       "                {&quot;extraClasses&quot;: &quot;fa-rotate-0&quot;, &quot;icon&quot;: &quot;info-sign&quot;, &quot;iconColor&quot;: &quot;white&quot;, &quot;markerColor&quot;: &quot;blue&quot;, &quot;prefix&quot;: &quot;glyphicon&quot;}\n",
       "            );\n",
       "            marker_5c04ed7ba410cad2228836e5f6c06197.setIcon(icon_b5414dadd553ac33b1e9166bfe3a7c20);\n",
       "        \n",
       "    \n",
       "        var popup_fcae6ffcf524130132c72a84f7718a2d = L.popup({&quot;maxWidth&quot;: 350});\n",
       "\n",
       "        \n",
       "            \n",
       "                var html_f4521c77021c3a657c3086be0650533f = $(`&lt;div id=&quot;html_f4521c77021c3a657c3086be0650533f&quot; style=&quot;width: 100.0%; height: 100.0%;&quot;&gt;Fernando de Noronha &lt;br&gt; Localidades não encontradas: 0;&lt;br&gt;Denúncias das localidades não encontradas: 0;&lt;br&gt;Localidades encontradas: 4;&lt;br&gt; Denúncias das localidades encontradas: 1286.&lt;/div&gt;`)[0];\n",
       "                popup_fcae6ffcf524130132c72a84f7718a2d.setContent(html_f4521c77021c3a657c3086be0650533f);\n",
       "            \n",
       "        \n",
       "\n",
       "        marker_5c04ed7ba410cad2228836e5f6c06197.bindPopup(popup_fcae6ffcf524130132c72a84f7718a2d)\n",
       "        ;\n",
       "\n",
       "        \n",
       "    \n",
       "    \n",
       "            var circle_9ec28a0de83576eb8a2ac1521672e4db = L.circle(\n",
       "                [-3.84792495, -32.426703345771784],\n",
       "                {&quot;bubblingMouseEvents&quot;: true, &quot;color&quot;: &quot;#6819f5&quot;, &quot;dashArray&quot;: null, &quot;dashOffset&quot;: null, &quot;fill&quot;: true, &quot;fillColor&quot;: &quot;#6819f5&quot;, &quot;fillOpacity&quot;: 0.7, &quot;fillRule&quot;: &quot;evenodd&quot;, &quot;lineCap&quot;: &quot;round&quot;, &quot;lineJoin&quot;: &quot;round&quot;, &quot;opacity&quot;: 1.0, &quot;radius&quot;: 72.29299363057325, &quot;stroke&quot;: true, &quot;weight&quot;: 3}\n",
       "            ).addTo(map_6136be8f5e968b932d961520f194d554);\n",
       "        \n",
       "    \n",
       "        var popup_05820493b52e0828053537c65108a43b = L.popup({&quot;maxWidth&quot;: 430});\n",
       "\n",
       "        \n",
       "            \n",
       "                var html_f9c687d3aa98bb1f76b4f03e6ede8ede = $(`&lt;div id=&quot;html_f9c687d3aa98bb1f76b4f03e6ede8ede&quot; style=&quot;width: 100.0%; height: 100.0%;&quot;&gt;Boldró&lt;br&gt;Denúncias:36&lt;/div&gt;`)[0];\n",
       "                popup_05820493b52e0828053537c65108a43b.setContent(html_f9c687d3aa98bb1f76b4f03e6ede8ede);\n",
       "            \n",
       "        \n",
       "\n",
       "        circle_9ec28a0de83576eb8a2ac1521672e4db.bindPopup(popup_05820493b52e0828053537c65108a43b)\n",
       "        ;\n",
       "\n",
       "        \n",
       "    \n",
       "    \n",
       "            var marker_5682bdd0ae06e75a11bbd2dacf10a195 = L.marker(\n",
       "                [-3.84036, -32.4113],\n",
       "                {}\n",
       "            ).addTo(map_6136be8f5e968b932d961520f194d554);\n",
       "        \n",
       "    \n",
       "            var icon_e0be0372f1049b6542a989e93730140d = L.AwesomeMarkers.icon(\n",
       "                {&quot;extraClasses&quot;: &quot;fa-rotate-0&quot;, &quot;icon&quot;: &quot;info-sign&quot;, &quot;iconColor&quot;: &quot;white&quot;, &quot;markerColor&quot;: &quot;blue&quot;, &quot;prefix&quot;: &quot;glyphicon&quot;}\n",
       "            );\n",
       "            marker_5682bdd0ae06e75a11bbd2dacf10a195.setIcon(icon_e0be0372f1049b6542a989e93730140d);\n",
       "        \n",
       "    \n",
       "        var popup_204a4bcced4dada0d602b2086912ed56 = L.popup({&quot;maxWidth&quot;: 350});\n",
       "\n",
       "        \n",
       "            \n",
       "                var html_76413d6c4c95a3a86e262eea5580feed = $(`&lt;div id=&quot;html_76413d6c4c95a3a86e262eea5580feed&quot; style=&quot;width: 100.0%; height: 100.0%;&quot;&gt;Fernando de Noronha &lt;br&gt; Localidades não encontradas: 1;&lt;br&gt;Denúncias das localidades não encontradas: 36;&lt;br&gt;Localidades encontradas: 5;&lt;br&gt; Denúncias das localidades encontradas: 1311.&lt;/div&gt;`)[0];\n",
       "                popup_204a4bcced4dada0d602b2086912ed56.setContent(html_76413d6c4c95a3a86e262eea5580feed);\n",
       "            \n",
       "        \n",
       "\n",
       "        marker_5682bdd0ae06e75a11bbd2dacf10a195.bindPopup(popup_204a4bcced4dada0d602b2086912ed56)\n",
       "        ;\n",
       "\n",
       "        \n",
       "    \n",
       "    \n",
       "            var circle_24a6ac257ab58f1a9e1e385800b7fac8 = L.circle(\n",
       "                [-3.8381099499999998, -32.40016356442137],\n",
       "                {&quot;bubblingMouseEvents&quot;: true, &quot;color&quot;: &quot;#f5a86f&quot;, &quot;dashArray&quot;: null, &quot;dashOffset&quot;: null, &quot;fill&quot;: true, &quot;fillColor&quot;: &quot;#f5a86f&quot;, &quot;fillOpacity&quot;: 0.7, &quot;fillRule&quot;: &quot;evenodd&quot;, &quot;lineCap&quot;: &quot;round&quot;, &quot;lineJoin&quot;: &quot;round&quot;, &quot;opacity&quot;: 1.0, &quot;radius&quot;: 65.28662420382166, &quot;stroke&quot;: true, &quot;weight&quot;: 3}\n",
       "            ).addTo(map_6136be8f5e968b932d961520f194d554);\n",
       "        \n",
       "    \n",
       "        var popup_72ab2a128b825ea1484ceeb5c9c6eae2 = L.popup({&quot;maxWidth&quot;: 430});\n",
       "\n",
       "        \n",
       "            \n",
       "                var html_49147de41a210466e8069dc8119b7649 = $(`&lt;div id=&quot;html_49147de41a210466e8069dc8119b7649&quot; style=&quot;width: 100.0%; height: 100.0%;&quot;&gt;Caieiras&lt;br&gt;Denúncias:25&lt;/div&gt;`)[0];\n",
       "                popup_72ab2a128b825ea1484ceeb5c9c6eae2.setContent(html_49147de41a210466e8069dc8119b7649);\n",
       "            \n",
       "        \n",
       "\n",
       "        circle_24a6ac257ab58f1a9e1e385800b7fac8.bindPopup(popup_72ab2a128b825ea1484ceeb5c9c6eae2)\n",
       "        ;\n",
       "\n",
       "        \n",
       "    \n",
       "    \n",
       "            var marker_e5a739f4174a25b0b04bcb8fe0196b80 = L.marker(\n",
       "                [-3.84036, -32.4113],\n",
       "                {}\n",
       "            ).addTo(map_6136be8f5e968b932d961520f194d554);\n",
       "        \n",
       "    \n",
       "            var icon_51dc81fad8dec945863f34ec820d8de3 = L.AwesomeMarkers.icon(\n",
       "                {&quot;extraClasses&quot;: &quot;fa-rotate-0&quot;, &quot;icon&quot;: &quot;info-sign&quot;, &quot;iconColor&quot;: &quot;white&quot;, &quot;markerColor&quot;: &quot;blue&quot;, &quot;prefix&quot;: &quot;glyphicon&quot;}\n",
       "            );\n",
       "            marker_e5a739f4174a25b0b04bcb8fe0196b80.setIcon(icon_51dc81fad8dec945863f34ec820d8de3);\n",
       "        \n",
       "    \n",
       "        var popup_4a2b2a4058c20c07df7fe81655bdb423 = L.popup({&quot;maxWidth&quot;: 350});\n",
       "\n",
       "        \n",
       "            \n",
       "                var html_1b25888bbc1c0911cc71e4fb6ef498de = $(`&lt;div id=&quot;html_1b25888bbc1c0911cc71e4fb6ef498de&quot; style=&quot;width: 100.0%; height: 100.0%;&quot;&gt;Fernando de Noronha &lt;br&gt; Localidades não encontradas: 1;&lt;br&gt;Denúncias das localidades não encontradas: 36;&lt;br&gt;Localidades encontradas: 6;&lt;br&gt; Denúncias das localidades encontradas: 1333.&lt;/div&gt;`)[0];\n",
       "                popup_4a2b2a4058c20c07df7fe81655bdb423.setContent(html_1b25888bbc1c0911cc71e4fb6ef498de);\n",
       "            \n",
       "        \n",
       "\n",
       "        marker_e5a739f4174a25b0b04bcb8fe0196b80.bindPopup(popup_4a2b2a4058c20c07df7fe81655bdb423)\n",
       "        ;\n",
       "\n",
       "        \n",
       "    \n",
       "    \n",
       "            var circle_cb167c043f9c1a965fc962e0c97068d0 = L.circle(\n",
       "                [-3.8540833, -32.443003381601244],\n",
       "                {&quot;bubblingMouseEvents&quot;: true, &quot;color&quot;: &quot;#693698&quot;, &quot;dashArray&quot;: null, &quot;dashOffset&quot;: null, &quot;fill&quot;: true, &quot;fillColor&quot;: &quot;#693698&quot;, &quot;fillOpacity&quot;: 0.7, &quot;fillRule&quot;: &quot;evenodd&quot;, &quot;lineCap&quot;: &quot;round&quot;, &quot;lineJoin&quot;: &quot;round&quot;, &quot;opacity&quot;: 1.0, &quot;radius&quot;: 63.37579617834395, &quot;stroke&quot;: true, &quot;weight&quot;: 3}\n",
       "            ).addTo(map_6136be8f5e968b932d961520f194d554);\n",
       "        \n",
       "    \n",
       "        var popup_19e9a589893aa956fb636723c24f8d31 = L.popup({&quot;maxWidth&quot;: 430});\n",
       "\n",
       "        \n",
       "            \n",
       "                var html_cd140273e5d58b70db0cfea95dece65f = $(`&lt;div id=&quot;html_cd140273e5d58b70db0cfea95dece65f&quot; style=&quot;width: 100.0%; height: 100.0%;&quot;&gt;Sancho&lt;br&gt;Denúncias:22&lt;/div&gt;`)[0];\n",
       "                popup_19e9a589893aa956fb636723c24f8d31.setContent(html_cd140273e5d58b70db0cfea95dece65f);\n",
       "            \n",
       "        \n",
       "\n",
       "        circle_cb167c043f9c1a965fc962e0c97068d0.bindPopup(popup_19e9a589893aa956fb636723c24f8d31)\n",
       "        ;\n",
       "\n",
       "        \n",
       "    \n",
       "    \n",
       "            var marker_c5c75d0ec40b9626cfc8aa362ceb0608 = L.marker(\n",
       "                [-3.84036, -32.4113],\n",
       "                {}\n",
       "            ).addTo(map_6136be8f5e968b932d961520f194d554);\n",
       "        \n",
       "    \n",
       "            var icon_15b51eab6a28b6a1a5bec68c7fea59cb = L.AwesomeMarkers.icon(\n",
       "                {&quot;extraClasses&quot;: &quot;fa-rotate-0&quot;, &quot;icon&quot;: &quot;info-sign&quot;, &quot;iconColor&quot;: &quot;white&quot;, &quot;markerColor&quot;: &quot;blue&quot;, &quot;prefix&quot;: &quot;glyphicon&quot;}\n",
       "            );\n",
       "            marker_c5c75d0ec40b9626cfc8aa362ceb0608.setIcon(icon_15b51eab6a28b6a1a5bec68c7fea59cb);\n",
       "        \n",
       "    \n",
       "        var popup_ceff252ee236e12ae715a389e36a08dd = L.popup({&quot;maxWidth&quot;: 350});\n",
       "\n",
       "        \n",
       "            \n",
       "                var html_167109d1b7ffa545832e02db36f2c49a = $(`&lt;div id=&quot;html_167109d1b7ffa545832e02db36f2c49a&quot; style=&quot;width: 100.0%; height: 100.0%;&quot;&gt;Fernando de Noronha &lt;br&gt; Localidades não encontradas: 2;&lt;br&gt;Denúncias das localidades não encontradas: 52;&lt;br&gt;Localidades encontradas: 7;&lt;br&gt; Denúncias das localidades encontradas: 1348.&lt;/div&gt;`)[0];\n",
       "                popup_ceff252ee236e12ae715a389e36a08dd.setContent(html_167109d1b7ffa545832e02db36f2c49a);\n",
       "            \n",
       "        \n",
       "\n",
       "        marker_c5c75d0ec40b9626cfc8aa362ceb0608.bindPopup(popup_ceff252ee236e12ae715a389e36a08dd)\n",
       "        ;\n",
       "\n",
       "        \n",
       "    \n",
       "    \n",
       "            var circle_234629b478bf87b3a122e04b3d7d6b81 = L.circle(\n",
       "                [-3.850539, -32.4422761],\n",
       "                {&quot;bubblingMouseEvents&quot;: true, &quot;color&quot;: &quot;#2c4647&quot;, &quot;dashArray&quot;: null, &quot;dashOffset&quot;: null, &quot;fill&quot;: true, &quot;fillColor&quot;: &quot;#2c4647&quot;, &quot;fillOpacity&quot;: 0.7, &quot;fillRule&quot;: &quot;evenodd&quot;, &quot;lineCap&quot;: &quot;round&quot;, &quot;lineJoin&quot;: &quot;round&quot;, &quot;opacity&quot;: 1.0, &quot;radius&quot;: 58.9171974522293, &quot;stroke&quot;: true, &quot;weight&quot;: 3}\n",
       "            ).addTo(map_6136be8f5e968b932d961520f194d554);\n",
       "        \n",
       "    \n",
       "        var popup_836eff0d8a3c852b608a55665fd56fc3 = L.popup({&quot;maxWidth&quot;: 430});\n",
       "\n",
       "        \n",
       "            \n",
       "                var html_28f3f1f8b328aaf1311ccb2c570d01c8 = $(`&lt;div id=&quot;html_28f3f1f8b328aaf1311ccb2c570d01c8&quot; style=&quot;width: 100.0%; height: 100.0%;&quot;&gt;Baía dos Porcos&lt;br&gt;Denúncias:15&lt;/div&gt;`)[0];\n",
       "                popup_836eff0d8a3c852b608a55665fd56fc3.setContent(html_28f3f1f8b328aaf1311ccb2c570d01c8);\n",
       "            \n",
       "        \n",
       "\n",
       "        circle_234629b478bf87b3a122e04b3d7d6b81.bindPopup(popup_836eff0d8a3c852b608a55665fd56fc3)\n",
       "        ;\n",
       "\n",
       "        \n",
       "    \n",
       "    \n",
       "            var marker_6f0993d2764803336f14ee2418a0dc3d = L.marker(\n",
       "                [-3.84036, -32.4113],\n",
       "                {}\n",
       "            ).addTo(map_6136be8f5e968b932d961520f194d554);\n",
       "        \n",
       "    \n",
       "            var icon_7ac79574fb878833ac45c0b88bf1451c = L.AwesomeMarkers.icon(\n",
       "                {&quot;extraClasses&quot;: &quot;fa-rotate-0&quot;, &quot;icon&quot;: &quot;info-sign&quot;, &quot;iconColor&quot;: &quot;white&quot;, &quot;markerColor&quot;: &quot;blue&quot;, &quot;prefix&quot;: &quot;glyphicon&quot;}\n",
       "            );\n",
       "            marker_6f0993d2764803336f14ee2418a0dc3d.setIcon(icon_7ac79574fb878833ac45c0b88bf1451c);\n",
       "        \n",
       "    \n",
       "        var popup_5dba9b3e42fa9219e46aba26816053c7 = L.popup({&quot;maxWidth&quot;: 350});\n",
       "\n",
       "        \n",
       "            \n",
       "                var html_51871655d9b77ec5a1ea7a554034ec4a = $(`&lt;div id=&quot;html_51871655d9b77ec5a1ea7a554034ec4a&quot; style=&quot;width: 100.0%; height: 100.0%;&quot;&gt;Fernando de Noronha &lt;br&gt; Localidades não encontradas: 2;&lt;br&gt;Denúncias das localidades não encontradas: 52;&lt;br&gt;Localidades encontradas: 8;&lt;br&gt; Denúncias das localidades encontradas: 1361.&lt;/div&gt;`)[0];\n",
       "                popup_5dba9b3e42fa9219e46aba26816053c7.setContent(html_51871655d9b77ec5a1ea7a554034ec4a);\n",
       "            \n",
       "        \n",
       "\n",
       "        marker_6f0993d2764803336f14ee2418a0dc3d.bindPopup(popup_5dba9b3e42fa9219e46aba26816053c7)\n",
       "        ;\n",
       "\n",
       "        \n",
       "    \n",
       "    \n",
       "            var circle_ec3a574b076df985507f088498106e7a = L.circle(\n",
       "                [-3.8739281, -32.4347702],\n",
       "                {&quot;bubblingMouseEvents&quot;: true, &quot;color&quot;: &quot;#b1e214&quot;, &quot;dashArray&quot;: null, &quot;dashOffset&quot;: null, &quot;fill&quot;: true, &quot;fillColor&quot;: &quot;#b1e214&quot;, &quot;fillOpacity&quot;: 0.7, &quot;fillRule&quot;: &quot;evenodd&quot;, &quot;lineCap&quot;: &quot;round&quot;, &quot;lineJoin&quot;: &quot;round&quot;, &quot;opacity&quot;: 1.0, &quot;radius&quot;: 57.64331210191083, &quot;stroke&quot;: true, &quot;weight&quot;: 3}\n",
       "            ).addTo(map_6136be8f5e968b932d961520f194d554);\n",
       "        \n",
       "    \n",
       "        var popup_9c8d32f7b68cb64e1366a6537e98248f = L.popup({&quot;maxWidth&quot;: 430});\n",
       "\n",
       "        \n",
       "            \n",
       "                var html_f9c52c67efbab8106a22dfc91637b805 = $(`&lt;div id=&quot;html_f9c52c67efbab8106a22dfc91637b805&quot; style=&quot;width: 100.0%; height: 100.0%;&quot;&gt;Leão&lt;br&gt;Denúncias:13&lt;/div&gt;`)[0];\n",
       "                popup_9c8d32f7b68cb64e1366a6537e98248f.setContent(html_f9c52c67efbab8106a22dfc91637b805);\n",
       "            \n",
       "        \n",
       "\n",
       "        circle_ec3a574b076df985507f088498106e7a.bindPopup(popup_9c8d32f7b68cb64e1366a6537e98248f)\n",
       "        ;\n",
       "\n",
       "        \n",
       "    \n",
       "    \n",
       "            var marker_d583f873fc9ba686a7a1de20a7dc3bb7 = L.marker(\n",
       "                [-3.84036, -32.4113],\n",
       "                {}\n",
       "            ).addTo(map_6136be8f5e968b932d961520f194d554);\n",
       "        \n",
       "    \n",
       "            var icon_662d21dc3b383f50543530042e3073d4 = L.AwesomeMarkers.icon(\n",
       "                {&quot;extraClasses&quot;: &quot;fa-rotate-0&quot;, &quot;icon&quot;: &quot;info-sign&quot;, &quot;iconColor&quot;: &quot;white&quot;, &quot;markerColor&quot;: &quot;blue&quot;, &quot;prefix&quot;: &quot;glyphicon&quot;}\n",
       "            );\n",
       "            marker_d583f873fc9ba686a7a1de20a7dc3bb7.setIcon(icon_662d21dc3b383f50543530042e3073d4);\n",
       "        \n",
       "    \n",
       "        var popup_45f8ab9fd8606667e8f89a6f0403dd6b = L.popup({&quot;maxWidth&quot;: 350});\n",
       "\n",
       "        \n",
       "            \n",
       "                var html_94a8648a11159f02a8e38ddd89458662 = $(`&lt;div id=&quot;html_94a8648a11159f02a8e38ddd89458662&quot; style=&quot;width: 100.0%; height: 100.0%;&quot;&gt;Fernando de Noronha &lt;br&gt; Localidades não encontradas: 4;&lt;br&gt;Denúncias das localidades não encontradas: 73;&lt;br&gt;Localidades encontradas: 9;&lt;br&gt; Denúncias das localidades encontradas: 1369.&lt;/div&gt;`)[0];\n",
       "                popup_45f8ab9fd8606667e8f89a6f0403dd6b.setContent(html_94a8648a11159f02a8e38ddd89458662);\n",
       "            \n",
       "        \n",
       "\n",
       "        marker_d583f873fc9ba686a7a1de20a7dc3bb7.bindPopup(popup_45f8ab9fd8606667e8f89a6f0403dd6b)\n",
       "        ;\n",
       "\n",
       "        \n",
       "    \n",
       "    \n",
       "            var circle_bf8a3247000ec518ab4b5b8e6c61b737 = L.circle(\n",
       "                [-3.81972425, -32.393159113207545],\n",
       "                {&quot;bubblingMouseEvents&quot;: true, &quot;color&quot;: &quot;#f50e03&quot;, &quot;dashArray&quot;: null, &quot;dashOffset&quot;: null, &quot;fill&quot;: true, &quot;fillColor&quot;: &quot;#f50e03&quot;, &quot;fillOpacity&quot;: 0.7, &quot;fillRule&quot;: &quot;evenodd&quot;, &quot;lineCap&quot;: &quot;round&quot;, &quot;lineJoin&quot;: &quot;round&quot;, &quot;opacity&quot;: 1.0, &quot;radius&quot;: 54.45859872611465, &quot;stroke&quot;: true, &quot;weight&quot;: 3}\n",
       "            ).addTo(map_6136be8f5e968b932d961520f194d554);\n",
       "        \n",
       "    \n",
       "        var popup_a65b7e0a892158ce298a9c7cfe0f1a0f = L.popup({&quot;maxWidth&quot;: 430});\n",
       "\n",
       "        \n",
       "            \n",
       "                var html_519b1ab49ca888ce4dc3645694afa5a1 = $(`&lt;div id=&quot;html_519b1ab49ca888ce4dc3645694afa5a1&quot; style=&quot;width: 100.0%; height: 100.0%;&quot;&gt;Ilha do Meio&lt;br&gt;Denúncias:8&lt;/div&gt;`)[0];\n",
       "                popup_a65b7e0a892158ce298a9c7cfe0f1a0f.setContent(html_519b1ab49ca888ce4dc3645694afa5a1);\n",
       "            \n",
       "        \n",
       "\n",
       "        circle_bf8a3247000ec518ab4b5b8e6c61b737.bindPopup(popup_a65b7e0a892158ce298a9c7cfe0f1a0f)\n",
       "        ;\n",
       "\n",
       "        \n",
       "    \n",
       "    \n",
       "            var marker_15052dd5def55ade7f80304fb8984f88 = L.marker(\n",
       "                [-3.84036, -32.4113],\n",
       "                {}\n",
       "            ).addTo(map_6136be8f5e968b932d961520f194d554);\n",
       "        \n",
       "    \n",
       "            var icon_c114a0de9cf3df74b19399aa7aae4481 = L.AwesomeMarkers.icon(\n",
       "                {&quot;extraClasses&quot;: &quot;fa-rotate-0&quot;, &quot;icon&quot;: &quot;info-sign&quot;, &quot;iconColor&quot;: &quot;white&quot;, &quot;markerColor&quot;: &quot;blue&quot;, &quot;prefix&quot;: &quot;glyphicon&quot;}\n",
       "            );\n",
       "            marker_15052dd5def55ade7f80304fb8984f88.setIcon(icon_c114a0de9cf3df74b19399aa7aae4481);\n",
       "        \n",
       "    \n",
       "        var popup_cf2d40912f09aebc2e1789aaefd50c21 = L.popup({&quot;maxWidth&quot;: 350});\n",
       "\n",
       "        \n",
       "            \n",
       "                var html_b0135eeac9cbeb6ae57f36390c728d27 = $(`&lt;div id=&quot;html_b0135eeac9cbeb6ae57f36390c728d27&quot; style=&quot;width: 100.0%; height: 100.0%;&quot;&gt;Fernando de Noronha &lt;br&gt; Localidades não encontradas: 5;&lt;br&gt;Denúncias das localidades não encontradas: 79;&lt;br&gt;Localidades encontradas: 10;&lt;br&gt; Denúncias das localidades encontradas: 1372.&lt;/div&gt;`)[0];\n",
       "                popup_cf2d40912f09aebc2e1789aaefd50c21.setContent(html_b0135eeac9cbeb6ae57f36390c728d27);\n",
       "            \n",
       "        \n",
       "\n",
       "        marker_15052dd5def55ade7f80304fb8984f88.bindPopup(popup_cf2d40912f09aebc2e1789aaefd50c21)\n",
       "        ;\n",
       "\n",
       "        \n",
       "    \n",
       "    \n",
       "            var circle_9118b22a22718e826377a381ca3be82d = L.circle(\n",
       "                [-3.8423534, -32.416630519682876],\n",
       "                {&quot;bubblingMouseEvents&quot;: true, &quot;color&quot;: &quot;#37291c&quot;, &quot;dashArray&quot;: null, &quot;dashOffset&quot;: null, &quot;fill&quot;: true, &quot;fillColor&quot;: &quot;#37291c&quot;, &quot;fillOpacity&quot;: 0.7, &quot;fillRule&quot;: &quot;evenodd&quot;, &quot;lineCap&quot;: &quot;round&quot;, &quot;lineJoin&quot;: &quot;round&quot;, &quot;opacity&quot;: 1.0, &quot;radius&quot;: 51.27388535031847, &quot;stroke&quot;: true, &quot;weight&quot;: 3}\n",
       "            ).addTo(map_6136be8f5e968b932d961520f194d554);\n",
       "        \n",
       "    \n",
       "        var popup_228298344c50ace2661171d4d6f327e0 = L.popup({&quot;maxWidth&quot;: 430});\n",
       "\n",
       "        \n",
       "            \n",
       "                var html_2542623c6d016e990c9620af2997f430 = $(`&lt;div id=&quot;html_2542623c6d016e990c9620af2997f430&quot; style=&quot;width: 100.0%; height: 100.0%;&quot;&gt;Conceição&lt;br&gt;Denúncias:3&lt;/div&gt;`)[0];\n",
       "                popup_228298344c50ace2661171d4d6f327e0.setContent(html_2542623c6d016e990c9620af2997f430);\n",
       "            \n",
       "        \n",
       "\n",
       "        circle_9118b22a22718e826377a381ca3be82d.bindPopup(popup_228298344c50ace2661171d4d6f327e0)\n",
       "        ;\n",
       "\n",
       "        \n",
       "    \n",
       "    \n",
       "            var marker_b86a4b6abce5c40cfc44085507d8c3b8 = L.marker(\n",
       "                [-3.84036, -32.4113],\n",
       "                {}\n",
       "            ).addTo(map_6136be8f5e968b932d961520f194d554);\n",
       "        \n",
       "    \n",
       "            var icon_967751d2ef02f3cfffad6ebc76bf1456 = L.AwesomeMarkers.icon(\n",
       "                {&quot;extraClasses&quot;: &quot;fa-rotate-0&quot;, &quot;icon&quot;: &quot;info-sign&quot;, &quot;iconColor&quot;: &quot;white&quot;, &quot;markerColor&quot;: &quot;blue&quot;, &quot;prefix&quot;: &quot;glyphicon&quot;}\n",
       "            );\n",
       "            marker_b86a4b6abce5c40cfc44085507d8c3b8.setIcon(icon_967751d2ef02f3cfffad6ebc76bf1456);\n",
       "        \n",
       "    \n",
       "        var popup_52fd15d559d327d9df538116c8d91ecf = L.popup({&quot;maxWidth&quot;: 350});\n",
       "\n",
       "        \n",
       "            \n",
       "                var html_d1506ca5bd1bbaa132183460200a3b2b = $(`&lt;div id=&quot;html_d1506ca5bd1bbaa132183460200a3b2b&quot; style=&quot;width: 100.0%; height: 100.0%;&quot;&gt;Fernando de Noronha &lt;br&gt; Localidades não encontradas: 7;&lt;br&gt;Denúncias das localidades não encontradas: 84;&lt;br&gt;Localidades encontradas: 11;&lt;br&gt; Denúncias das localidades encontradas: 1374.&lt;/div&gt;`)[0];\n",
       "                popup_52fd15d559d327d9df538116c8d91ecf.setContent(html_d1506ca5bd1bbaa132183460200a3b2b);\n",
       "            \n",
       "        \n",
       "\n",
       "        marker_b86a4b6abce5c40cfc44085507d8c3b8.bindPopup(popup_52fd15d559d327d9df538116c8d91ecf)\n",
       "        ;\n",
       "\n",
       "        \n",
       "    \n",
       "    \n",
       "            var circle_fad2f87c79afcdc7ef1e0589c0521ee2 = L.circle(\n",
       "                [-3.85700215, -32.409215220826894],\n",
       "                {&quot;bubblingMouseEvents&quot;: true, &quot;color&quot;: &quot;#6b1db8&quot;, &quot;dashArray&quot;: null, &quot;dashOffset&quot;: null, &quot;fill&quot;: true, &quot;fillColor&quot;: &quot;#6b1db8&quot;, &quot;fillOpacity&quot;: 0.7, &quot;fillRule&quot;: &quot;evenodd&quot;, &quot;lineCap&quot;: &quot;round&quot;, &quot;lineJoin&quot;: &quot;round&quot;, &quot;opacity&quot;: 1.0, &quot;radius&quot;: 50.63694267515923, &quot;stroke&quot;: true, &quot;weight&quot;: 3}\n",
       "            ).addTo(map_6136be8f5e968b932d961520f194d554);\n",
       "        \n",
       "    \n",
       "        var popup_3245ab7d1ee8412d4bd61d959c373874 = L.popup({&quot;maxWidth&quot;: 430});\n",
       "\n",
       "        \n",
       "            \n",
       "                var html_b020bb4d6d28c2f62e523dfd13eca080 = $(`&lt;div id=&quot;html_b020bb4d6d28c2f62e523dfd13eca080&quot; style=&quot;width: 100.0%; height: 100.0%;&quot;&gt;Praia da Atalaia&lt;br&gt;Denúncias:2&lt;/div&gt;`)[0];\n",
       "                popup_3245ab7d1ee8412d4bd61d959c373874.setContent(html_b020bb4d6d28c2f62e523dfd13eca080);\n",
       "            \n",
       "        \n",
       "\n",
       "        circle_fad2f87c79afcdc7ef1e0589c0521ee2.bindPopup(popup_3245ab7d1ee8412d4bd61d959c373874)\n",
       "        ;\n",
       "\n",
       "        \n",
       "    \n",
       "    \n",
       "            var marker_13cf0cce7760cbed235546d44cbb8df1 = L.marker(\n",
       "                [-3.84036, -32.4113],\n",
       "                {}\n",
       "            ).addTo(map_6136be8f5e968b932d961520f194d554);\n",
       "        \n",
       "    \n",
       "            var icon_723fe9f1c7eb859f46a25570702255a9 = L.AwesomeMarkers.icon(\n",
       "                {&quot;extraClasses&quot;: &quot;fa-rotate-0&quot;, &quot;icon&quot;: &quot;info-sign&quot;, &quot;iconColor&quot;: &quot;white&quot;, &quot;markerColor&quot;: &quot;blue&quot;, &quot;prefix&quot;: &quot;glyphicon&quot;}\n",
       "            );\n",
       "            marker_13cf0cce7760cbed235546d44cbb8df1.setIcon(icon_723fe9f1c7eb859f46a25570702255a9);\n",
       "        \n",
       "    \n",
       "        var popup_0733449650297366b3e45423c872c1f8 = L.popup({&quot;maxWidth&quot;: 350});\n",
       "\n",
       "        \n",
       "            \n",
       "                var html_1d34d3009e625f5159ac4d8717984f4f = $(`&lt;div id=&quot;html_1d34d3009e625f5159ac4d8717984f4f&quot; style=&quot;width: 100.0%; height: 100.0%;&quot;&gt;Fernando de Noronha &lt;br&gt; Localidades não encontradas: 8;&lt;br&gt;Denúncias das localidades não encontradas: 86;&lt;br&gt;Localidades encontradas: 12;&lt;br&gt; Denúncias das localidades encontradas: 1376.&lt;/div&gt;`)[0];\n",
       "                popup_0733449650297366b3e45423c872c1f8.setContent(html_1d34d3009e625f5159ac4d8717984f4f);\n",
       "            \n",
       "        \n",
       "\n",
       "        marker_13cf0cce7760cbed235546d44cbb8df1.bindPopup(popup_0733449650297366b3e45423c872c1f8)\n",
       "        ;\n",
       "\n",
       "        \n",
       "    \n",
       "    \n",
       "            var circle_d0187ca1e803bbe3c8fd49df5a46fd96 = L.circle(\n",
       "                [-3.8242243499999997, -32.393815280759014],\n",
       "                {&quot;bubblingMouseEvents&quot;: true, &quot;color&quot;: &quot;#869ed2&quot;, &quot;dashArray&quot;: null, &quot;dashOffset&quot;: null, &quot;fill&quot;: true, &quot;fillColor&quot;: &quot;#869ed2&quot;, &quot;fillOpacity&quot;: 0.7, &quot;fillRule&quot;: &quot;evenodd&quot;, &quot;lineCap&quot;: &quot;round&quot;, &quot;lineJoin&quot;: &quot;round&quot;, &quot;opacity&quot;: 1.0, &quot;radius&quot;: 50.63694267515923, &quot;stroke&quot;: true, &quot;weight&quot;: 3}\n",
       "            ).addTo(map_6136be8f5e968b932d961520f194d554);\n",
       "        \n",
       "    \n",
       "        var popup_3ddf217671cab47668c72a6aee39c164 = L.popup({&quot;maxWidth&quot;: 430});\n",
       "\n",
       "        \n",
       "            \n",
       "                var html_77084206051a71296528879f5c3d12bd = $(`&lt;div id=&quot;html_77084206051a71296528879f5c3d12bd&quot; style=&quot;width: 100.0%; height: 100.0%;&quot;&gt;Ilha Sela Gineta&lt;br&gt;Denúncias:2&lt;/div&gt;`)[0];\n",
       "                popup_3ddf217671cab47668c72a6aee39c164.setContent(html_77084206051a71296528879f5c3d12bd);\n",
       "            \n",
       "        \n",
       "\n",
       "        circle_d0187ca1e803bbe3c8fd49df5a46fd96.bindPopup(popup_3ddf217671cab47668c72a6aee39c164)\n",
       "        ;\n",
       "\n",
       "        \n",
       "    \n",
       "    \n",
       "            var marker_637389cb60ebb52f7a85943e37957421 = L.marker(\n",
       "                [-3.84036, -32.4113],\n",
       "                {}\n",
       "            ).addTo(map_6136be8f5e968b932d961520f194d554);\n",
       "        \n",
       "    \n",
       "            var icon_e00cacd55dce56e2f39ebc77340a9845 = L.AwesomeMarkers.icon(\n",
       "                {&quot;extraClasses&quot;: &quot;fa-rotate-0&quot;, &quot;icon&quot;: &quot;info-sign&quot;, &quot;iconColor&quot;: &quot;white&quot;, &quot;markerColor&quot;: &quot;blue&quot;, &quot;prefix&quot;: &quot;glyphicon&quot;}\n",
       "            );\n",
       "            marker_637389cb60ebb52f7a85943e37957421.setIcon(icon_e00cacd55dce56e2f39ebc77340a9845);\n",
       "        \n",
       "    \n",
       "        var popup_f3f899a2ce3f099e6aa8a4ca2ffaca24 = L.popup({&quot;maxWidth&quot;: 350});\n",
       "\n",
       "        \n",
       "            \n",
       "                var html_b0cdd137c5efbbe712d4da2ad3fa0b48 = $(`&lt;div id=&quot;html_b0cdd137c5efbbe712d4da2ad3fa0b48&quot; style=&quot;width: 100.0%; height: 100.0%;&quot;&gt;Fernando de Noronha &lt;br&gt; Localidades não encontradas: 8;&lt;br&gt;Denúncias das localidades não encontradas: 86;&lt;br&gt;Localidades encontradas: 13;&lt;br&gt; Denúncias das localidades encontradas: 1378.&lt;/div&gt;`)[0];\n",
       "                popup_f3f899a2ce3f099e6aa8a4ca2ffaca24.setContent(html_b0cdd137c5efbbe712d4da2ad3fa0b48);\n",
       "            \n",
       "        \n",
       "\n",
       "        marker_637389cb60ebb52f7a85943e37957421.bindPopup(popup_f3f899a2ce3f099e6aa8a4ca2ffaca24)\n",
       "        ;\n",
       "\n",
       "        \n",
       "    \n",
       "    \n",
       "            var circle_75d4f7d685d14ccc37517c25a9ef0a71 = L.circle(\n",
       "                [-3.8487519, -32.4422772],\n",
       "                {&quot;bubblingMouseEvents&quot;: true, &quot;color&quot;: &quot;#f315e6&quot;, &quot;dashArray&quot;: null, &quot;dashOffset&quot;: null, &quot;fill&quot;: true, &quot;fillColor&quot;: &quot;#f315e6&quot;, &quot;fillOpacity&quot;: 0.7, &quot;fillRule&quot;: &quot;evenodd&quot;, &quot;lineCap&quot;: &quot;round&quot;, &quot;lineJoin&quot;: &quot;round&quot;, &quot;opacity&quot;: 1.0, &quot;radius&quot;: 50.63694267515923, &quot;stroke&quot;: true, &quot;weight&quot;: 3}\n",
       "            ).addTo(map_6136be8f5e968b932d961520f194d554);\n",
       "        \n",
       "    \n",
       "        var popup_6a0435aaa0c49427c5a596bb18775c49 = L.popup({&quot;maxWidth&quot;: 430});\n",
       "\n",
       "        \n",
       "            \n",
       "                var html_4c27d5887e603cc53b05e0cd1f00473d = $(`&lt;div id=&quot;html_4c27d5887e603cc53b05e0cd1f00473d&quot; style=&quot;width: 100.0%; height: 100.0%;&quot;&gt;Morro Dois Irmãos&lt;br&gt;Denúncias:2&lt;/div&gt;`)[0];\n",
       "                popup_6a0435aaa0c49427c5a596bb18775c49.setContent(html_4c27d5887e603cc53b05e0cd1f00473d);\n",
       "            \n",
       "        \n",
       "\n",
       "        circle_75d4f7d685d14ccc37517c25a9ef0a71.bindPopup(popup_6a0435aaa0c49427c5a596bb18775c49)\n",
       "        ;\n",
       "\n",
       "        \n",
       "    \n",
       "    \n",
       "            var marker_30fff9a194536bb7b3fbd2b8a16a5d1b = L.marker(\n",
       "                [-3.84036, -32.4113],\n",
       "                {}\n",
       "            ).addTo(map_6136be8f5e968b932d961520f194d554);\n",
       "        \n",
       "    \n",
       "            var icon_055250e04576f9d33178d813e2373fc1 = L.AwesomeMarkers.icon(\n",
       "                {&quot;extraClasses&quot;: &quot;fa-rotate-0&quot;, &quot;icon&quot;: &quot;info-sign&quot;, &quot;iconColor&quot;: &quot;white&quot;, &quot;markerColor&quot;: &quot;blue&quot;, &quot;prefix&quot;: &quot;glyphicon&quot;}\n",
       "            );\n",
       "            marker_30fff9a194536bb7b3fbd2b8a16a5d1b.setIcon(icon_055250e04576f9d33178d813e2373fc1);\n",
       "        \n",
       "    \n",
       "        var popup_8e4e3746a48e93ad2526e07125b9f471 = L.popup({&quot;maxWidth&quot;: 350});\n",
       "\n",
       "        \n",
       "            \n",
       "                var html_9bb084e9ab7c3b8205670050165f8cf4 = $(`&lt;div id=&quot;html_9bb084e9ab7c3b8205670050165f8cf4&quot; style=&quot;width: 100.0%; height: 100.0%;&quot;&gt;Fernando de Noronha &lt;br&gt; Localidades não encontradas: 9;&lt;br&gt;Denúncias das localidades não encontradas: 87;&lt;br&gt;Localidades encontradas: 14;&lt;br&gt; Denúncias das localidades encontradas: 1379.&lt;/div&gt;`)[0];\n",
       "                popup_8e4e3746a48e93ad2526e07125b9f471.setContent(html_9bb084e9ab7c3b8205670050165f8cf4);\n",
       "            \n",
       "        \n",
       "\n",
       "        marker_30fff9a194536bb7b3fbd2b8a16a5d1b.bindPopup(popup_8e4e3746a48e93ad2526e07125b9f471)\n",
       "        ;\n",
       "\n",
       "        \n",
       "    \n",
       "    \n",
       "            var circle_85b4e6e2c93075c741b09cc21ac794a0 = L.circle(\n",
       "                [-3.8380324999999997, -32.415457719117654],\n",
       "                {&quot;bubblingMouseEvents&quot;: true, &quot;color&quot;: &quot;#f880ec&quot;, &quot;dashArray&quot;: null, &quot;dashOffset&quot;: null, &quot;fill&quot;: true, &quot;fillColor&quot;: &quot;#f880ec&quot;, &quot;fillOpacity&quot;: 0.7, &quot;fillRule&quot;: &quot;evenodd&quot;, &quot;lineCap&quot;: &quot;round&quot;, &quot;lineJoin&quot;: &quot;round&quot;, &quot;opacity&quot;: 1.0, &quot;radius&quot;: 50.0, &quot;stroke&quot;: true, &quot;weight&quot;: 3}\n",
       "            ).addTo(map_6136be8f5e968b932d961520f194d554);\n",
       "        \n",
       "    \n",
       "        var popup_2ee4a803e1ecf4bce85845a8df0c2cf4 = L.popup({&quot;maxWidth&quot;: 430});\n",
       "\n",
       "        \n",
       "            \n",
       "                var html_21e4155bfa815eb324d69e55fa829838 = $(`&lt;div id=&quot;html_21e4155bfa815eb324d69e55fa829838&quot; style=&quot;width: 100.0%; height: 100.0%;&quot;&gt;Morro de Fora&lt;br&gt;Denúncias:1&lt;/div&gt;`)[0];\n",
       "                popup_2ee4a803e1ecf4bce85845a8df0c2cf4.setContent(html_21e4155bfa815eb324d69e55fa829838);\n",
       "            \n",
       "        \n",
       "\n",
       "        circle_85b4e6e2c93075c741b09cc21ac794a0.bindPopup(popup_2ee4a803e1ecf4bce85845a8df0c2cf4)\n",
       "        ;\n",
       "\n",
       "        \n",
       "    \n",
       "    \n",
       "            var marker_c5fd12b6034500ec843bfd238118355b = L.marker(\n",
       "                [-3.84036, -32.4113],\n",
       "                {}\n",
       "            ).addTo(map_6136be8f5e968b932d961520f194d554);\n",
       "        \n",
       "    \n",
       "            var icon_db672c82acd02a59746153573c48f30d = L.AwesomeMarkers.icon(\n",
       "                {&quot;extraClasses&quot;: &quot;fa-rotate-0&quot;, &quot;icon&quot;: &quot;info-sign&quot;, &quot;iconColor&quot;: &quot;white&quot;, &quot;markerColor&quot;: &quot;blue&quot;, &quot;prefix&quot;: &quot;glyphicon&quot;}\n",
       "            );\n",
       "            marker_c5fd12b6034500ec843bfd238118355b.setIcon(icon_db672c82acd02a59746153573c48f30d);\n",
       "        \n",
       "    \n",
       "        var popup_43b188642df61c8e49fccc08aaf766c7 = L.popup({&quot;maxWidth&quot;: 350});\n",
       "\n",
       "        \n",
       "            \n",
       "                var html_0d1009ccb212ecd3ce57cbb4dfb6ba83 = $(`&lt;div id=&quot;html_0d1009ccb212ecd3ce57cbb4dfb6ba83&quot; style=&quot;width: 100.0%; height: 100.0%;&quot;&gt;Fernando de Noronha &lt;br&gt; Localidades não encontradas: 9;&lt;br&gt;Denúncias das localidades não encontradas: 87;&lt;br&gt;Localidades encontradas: 15;&lt;br&gt; Denúncias das localidades encontradas: 1380.&lt;/div&gt;`)[0];\n",
       "                popup_43b188642df61c8e49fccc08aaf766c7.setContent(html_0d1009ccb212ecd3ce57cbb4dfb6ba83);\n",
       "            \n",
       "        \n",
       "\n",
       "        marker_c5fd12b6034500ec843bfd238118355b.bindPopup(popup_43b188642df61c8e49fccc08aaf766c7)\n",
       "        ;\n",
       "\n",
       "        \n",
       "    \n",
       "    \n",
       "            var circle_8df2f9bcb1b3ff52c59a75575f0c486a = L.circle(\n",
       "                [-3.8268520500000003, -32.40145404751189],\n",
       "                {&quot;bubblingMouseEvents&quot;: true, &quot;color&quot;: &quot;#f1699b&quot;, &quot;dashArray&quot;: null, &quot;dashOffset&quot;: null, &quot;fill&quot;: true, &quot;fillColor&quot;: &quot;#f1699b&quot;, &quot;fillOpacity&quot;: 0.7, &quot;fillRule&quot;: &quot;evenodd&quot;, &quot;lineCap&quot;: &quot;round&quot;, &quot;lineJoin&quot;: &quot;round&quot;, &quot;opacity&quot;: 1.0, &quot;radius&quot;: 50.0, &quot;stroke&quot;: true, &quot;weight&quot;: 3}\n",
       "            ).addTo(map_6136be8f5e968b932d961520f194d554);\n",
       "        \n",
       "    \n",
       "        var popup_d749f835fc7ef752f0aab1608bbcfc2c = L.popup({&quot;maxWidth&quot;: 430});\n",
       "\n",
       "        \n",
       "            \n",
       "                var html_23de307989e413a80d98eb870f09e836 = $(`&lt;div id=&quot;html_23de307989e413a80d98eb870f09e836&quot; style=&quot;width: 100.0%; height: 100.0%;&quot;&gt;Ilha São José&lt;br&gt;Denúncias:1&lt;/div&gt;`)[0];\n",
       "                popup_d749f835fc7ef752f0aab1608bbcfc2c.setContent(html_23de307989e413a80d98eb870f09e836);\n",
       "            \n",
       "        \n",
       "\n",
       "        circle_8df2f9bcb1b3ff52c59a75575f0c486a.bindPopup(popup_d749f835fc7ef752f0aab1608bbcfc2c)\n",
       "        ;\n",
       "\n",
       "        \n",
       "    \n",
       "    \n",
       "            var marker_8f16c4787148503cf6b0b4a3de921df4 = L.marker(\n",
       "                [-3.84036, -32.4113],\n",
       "                {}\n",
       "            ).addTo(map_6136be8f5e968b932d961520f194d554);\n",
       "        \n",
       "    \n",
       "            var icon_f1ae802b4c572ea0df47e0f4adadd479 = L.AwesomeMarkers.icon(\n",
       "                {&quot;extraClasses&quot;: &quot;fa-rotate-0&quot;, &quot;icon&quot;: &quot;info-sign&quot;, &quot;iconColor&quot;: &quot;white&quot;, &quot;markerColor&quot;: &quot;blue&quot;, &quot;prefix&quot;: &quot;glyphicon&quot;}\n",
       "            );\n",
       "            marker_8f16c4787148503cf6b0b4a3de921df4.setIcon(icon_f1ae802b4c572ea0df47e0f4adadd479);\n",
       "        \n",
       "    \n",
       "        var popup_f390176f9f09b59f6551067b3e231b5c = L.popup({&quot;maxWidth&quot;: 350});\n",
       "\n",
       "        \n",
       "            \n",
       "                var html_1bce213e5433c15e41bb6eab05672947 = $(`&lt;div id=&quot;html_1bce213e5433c15e41bb6eab05672947&quot; style=&quot;width: 100.0%; height: 100.0%;&quot;&gt;Fernando de Noronha &lt;br&gt; Localidades não encontradas: 9;&lt;br&gt;Denúncias das localidades não encontradas: 87;&lt;br&gt;Localidades encontradas: 16;&lt;br&gt; Denúncias das localidades encontradas: 1381.&lt;/div&gt;`)[0];\n",
       "                popup_f390176f9f09b59f6551067b3e231b5c.setContent(html_1bce213e5433c15e41bb6eab05672947);\n",
       "            \n",
       "        \n",
       "\n",
       "        marker_8f16c4787148503cf6b0b4a3de921df4.bindPopup(popup_f390176f9f09b59f6551067b3e231b5c)\n",
       "        ;\n",
       "\n",
       "        \n",
       "    \n",
       "    \n",
       "            var circle_71d324c9111c9fc482d222c4e60eeb6a = L.circle(\n",
       "                [-3.82757885, -32.39698754924594],\n",
       "                {&quot;bubblingMouseEvents&quot;: true, &quot;color&quot;: &quot;#34acde&quot;, &quot;dashArray&quot;: null, &quot;dashOffset&quot;: null, &quot;fill&quot;: true, &quot;fillColor&quot;: &quot;#34acde&quot;, &quot;fillOpacity&quot;: 0.7, &quot;fillRule&quot;: &quot;evenodd&quot;, &quot;lineCap&quot;: &quot;round&quot;, &quot;lineJoin&quot;: &quot;round&quot;, &quot;opacity&quot;: 1.0, &quot;radius&quot;: 50.0, &quot;stroke&quot;: true, &quot;weight&quot;: 3}\n",
       "            ).addTo(map_6136be8f5e968b932d961520f194d554);\n",
       "        \n",
       "    \n",
       "        var popup_b46d15891b6b887b99f5f2c4384d0461 = L.popup({&quot;maxWidth&quot;: 430});\n",
       "\n",
       "        \n",
       "            \n",
       "                var html_90546cb1c683eb2dfa479750bde26e81 = $(`&lt;div id=&quot;html_90546cb1c683eb2dfa479750bde26e81&quot; style=&quot;width: 100.0%; height: 100.0%;&quot;&gt;Ilha Rasa&lt;br&gt;Denúncias:1&lt;/div&gt;`)[0];\n",
       "                popup_b46d15891b6b887b99f5f2c4384d0461.setContent(html_90546cb1c683eb2dfa479750bde26e81);\n",
       "            \n",
       "        \n",
       "\n",
       "        circle_71d324c9111c9fc482d222c4e60eeb6a.bindPopup(popup_b46d15891b6b887b99f5f2c4384d0461)\n",
       "        ;\n",
       "\n",
       "        \n",
       "    \n",
       "    \n",
       "            var marker_bfdab0a07d7f00cf964e54c70bc5614d = L.marker(\n",
       "                [-3.84036, -32.4113],\n",
       "                {}\n",
       "            ).addTo(map_6136be8f5e968b932d961520f194d554);\n",
       "        \n",
       "    \n",
       "            var icon_bdae22a0c417ecc4657fbff07a327462 = L.AwesomeMarkers.icon(\n",
       "                {&quot;extraClasses&quot;: &quot;fa-rotate-0&quot;, &quot;icon&quot;: &quot;info-sign&quot;, &quot;iconColor&quot;: &quot;white&quot;, &quot;markerColor&quot;: &quot;blue&quot;, &quot;prefix&quot;: &quot;glyphicon&quot;}\n",
       "            );\n",
       "            marker_bfdab0a07d7f00cf964e54c70bc5614d.setIcon(icon_bdae22a0c417ecc4657fbff07a327462);\n",
       "        \n",
       "    \n",
       "        var popup_1559f70da3f2c97623ed21858056cbe7 = L.popup({&quot;maxWidth&quot;: 350});\n",
       "\n",
       "        \n",
       "            \n",
       "                var html_2021e7dcd7a9c525953b2f821bbc6af4 = $(`&lt;div id=&quot;html_2021e7dcd7a9c525953b2f821bbc6af4&quot; style=&quot;width: 100.0%; height: 100.0%;&quot;&gt;Fernando de Noronha &lt;br&gt; Localidades não encontradas: 9;&lt;br&gt;Denúncias das localidades não encontradas: 87;&lt;br&gt;Localidades encontradas: 17;&lt;br&gt; Denúncias das localidades encontradas: 1382.&lt;/div&gt;`)[0];\n",
       "                popup_1559f70da3f2c97623ed21858056cbe7.setContent(html_2021e7dcd7a9c525953b2f821bbc6af4);\n",
       "            \n",
       "        \n",
       "\n",
       "        marker_bfdab0a07d7f00cf964e54c70bc5614d.bindPopup(popup_1559f70da3f2c97623ed21858056cbe7)\n",
       "        ;\n",
       "\n",
       "        \n",
       "    \n",
       "    \n",
       "            var circle_9e241c38a762f3a57ac87140ada9a1ae = L.circle(\n",
       "                [-3.847932, -32.4114511],\n",
       "                {&quot;bubblingMouseEvents&quot;: true, &quot;color&quot;: &quot;#78e6fa&quot;, &quot;dashArray&quot;: null, &quot;dashOffset&quot;: null, &quot;fill&quot;: true, &quot;fillColor&quot;: &quot;#78e6fa&quot;, &quot;fillOpacity&quot;: 0.7, &quot;fillRule&quot;: &quot;evenodd&quot;, &quot;lineCap&quot;: &quot;round&quot;, &quot;lineJoin&quot;: &quot;round&quot;, &quot;opacity&quot;: 1.0, &quot;radius&quot;: 50.0, &quot;stroke&quot;: true, &quot;weight&quot;: 3}\n",
       "            ).addTo(map_6136be8f5e968b932d961520f194d554);\n",
       "        \n",
       "    \n",
       "        var popup_6aed30b83314076c53f286c3247c8163 = L.popup({&quot;maxWidth&quot;: 430});\n",
       "\n",
       "        \n",
       "            \n",
       "                var html_e382e37505a985ddc481ca610afef3d9 = $(`&lt;div id=&quot;html_e382e37505a985ddc481ca610afef3d9&quot; style=&quot;width: 100.0%; height: 100.0%;&quot;&gt;Pedras Secas&lt;br&gt;Denúncias:1&lt;/div&gt;`)[0];\n",
       "                popup_6aed30b83314076c53f286c3247c8163.setContent(html_e382e37505a985ddc481ca610afef3d9);\n",
       "            \n",
       "        \n",
       "\n",
       "        circle_9e241c38a762f3a57ac87140ada9a1ae.bindPopup(popup_6aed30b83314076c53f286c3247c8163)\n",
       "        ;\n",
       "\n",
       "        \n",
       "    \n",
       "&lt;/script&gt;\n",
       "&lt;/html&gt;\" style=\"position:absolute;width:100%;height:100%;left:0;top:0;border:none !important;\" allowfullscreen webkitallowfullscreen mozallowfullscreen></iframe></div></div>"
      ],
      "text/plain": [
       "<folium.folium.Map at 0x2472e8888d0>"
      ]
     },
     "execution_count": 18,
     "metadata": {},
     "output_type": "execute_result"
    }
   ],
   "source": [
    "import pandas as pd\n",
    "import folium\n",
    "from geopy.geocoders import Nominatim\n",
    "import random\n",
    "\n",
    "# Função para obter as coordenadas a partir do endereço\n",
    "def obter_coordenadas(endereco):\n",
    "    geolocator = Nominatim(user_agent=\"geoapiExercises\")\n",
    "    location = geolocator.geocode(endereco)\n",
    "    \n",
    "    if location:\n",
    "        return location.latitude, location.longitude\n",
    "    else:\n",
    "        return None\n",
    "def calcular_tamanho_circulo(denuncias):\n",
    "    max_radius = 550\n",
    "    min_radius = 50\n",
    "    max_denuncias = contagem.max()\n",
    "    min_denuncias = contagem.min()\n",
    "\n",
    "    scaled_radius = min_radius + (max_radius - min_radius) * (denuncias - min_denuncias) / (max_denuncias - min_denuncias)\n",
    "    return scaled_radius\n",
    "# Coordenadas de Fernando de Noronha\n",
    "latitude = -3.84036\n",
    "longitude = -32.4113\n",
    "\n",
    "# Cria o mapa\n",
    "mapa = folium.Map(location=[latitude, longitude], zoom_start=14)\n",
    "\n",
    "\n",
    "a = pd.read_csv('./registroPernambuco.csv', sep=',')\n",
    "\n",
    "# Filtrar registros a partir de 2012\n",
    "a['Data do registro'] = pd.to_datetime(a['Data do registro'], format='%d/%m/%Y')\n",
    "a = a[a['Data do registro'].dt.year >= 2012]\n",
    "\n",
    "# Função para criar os círculos para cada localidade\n",
    "def criar_circulo_localidade(localidade):\n",
    "    endereco_fernando_noronha = f\"{localidade}, Fernando de Noronha, Pernambuco, Brazil\"\n",
    "    endereco_pernambuco = f\"{localidade}, Pernambuco, Brazil\"\n",
    "\n",
    "    coords_fernando_noronha = obter_coordenadas(endereco_fernando_noronha)\n",
    "    coords_pernambuco = obter_coordenadas(endereco_pernambuco)\n",
    "\n",
    "    if coords_fernando_noronha:\n",
    "        coords = coords_fernando_noronha\n",
    "    elif coords_pernambuco:\n",
    "        coords = coords_pernambuco\n",
    "    else:\n",
    "        # Incrementa a contagem de localidades não encontradas\n",
    "        localidades_nao_encontradas.add(localidade)\n",
    "        return\n",
    "\n",
    "    denuncias = a.loc[a['Localidade'] == localidade].shape[0]\n",
    "    localidades_encontradas.add(localidade)\n",
    "    denuncias_localidades_encontradas[0] += 1\n",
    "    denuncias_localidades_encontradas[1] += denuncias\n",
    "    \n",
    "    folium.Marker(\n",
    "    location=[latitude, longitude],\n",
    "    popup=folium.Popup(f\"Fernando de Noronha <br> Localidades não encontradas: {len(localidades_nao_encontradas)};<br>Denúncias das localidades não encontradas: {sum(contagem[list(localidades_nao_encontradas)])};<br>Localidades encontradas: {len(localidades_encontradas)};<br> Denúncias das localidades encontradas: {denuncias_localidades_encontradas[1]}.\", max_width=350),\n",
    "    icon=folium.Icon(color='blue')\n",
    "     \n",
    ").add_to(mapa)\n",
    "    cor_unica = f'#{random.randint(0, 0xFFFFFF):06x}'  \n",
    "    tamanho_circulo = calcular_tamanho_circulo(denuncias)\n",
    "\n",
    "    folium.Circle(\n",
    "        location=coords,\n",
    "        radius=tamanho_circulo,\n",
    "        color=cor_unica,\n",
    "        fill=True,\n",
    "        fill_color=cor_unica,\n",
    "        fill_opacity=0.7,\n",
    "        popup=folium.Popup(f\"{localidade}<br>Denúncias:{denuncias}\", max_width=430)\n",
    "    ).add_to(mapa)\n",
    "    print(f\"{localidade} Denúncias:{denuncias}\")\n",
    "    \n",
    "    \n",
    "# Conjunto para armazenar as localidades não encontradas\n",
    "localidades_nao_encontradas = set()\n",
    "\n",
    "# Conjunto para armazenar as localidades encontradas\n",
    "localidades_encontradas = set()\n",
    "\n",
    "# Lista para armazenar o número de localidades encontradas e o número total de denúncias dessas localidades\n",
    "denuncias_localidades_encontradas = [0, 0]\n",
    "\n",
    "# Contagem de denúncias por localidade\n",
    "contagem = a['Localidade'].value_counts()\n",
    "\n",
    "# Criar os círculos para cada localidade\n",
    "for localidade in contagem.index:\n",
    "    criar_circulo_localidade(localidade)\n",
    "    \n",
    "print(\"Localidades não encontradas:\")\n",
    "for localidade in localidades_nao_encontradas:\n",
    "    denuncias_localidade_nao_encontrada = contagem.get(localidade, 0)\n",
    "    print(f\"{localidade} Denúncias:{denuncias_localidade_nao_encontrada}\")\n",
    "\n",
    "\n",
    "# Exibe o mapa interativo\n",
    "mapa\n"
   ]
  },
  {
   "cell_type": "code",
   "execution_count": 4,
   "metadata": {},
   "outputs": [
    {
     "data": {
      "application/vnd.plotly.v1+json": {
       "config": {
        "plotlyServerURL": "https://plot.ly"
       },
       "data": [
        {
         "alignmentgroup": "True",
         "hovertemplate": "Nome comum=Tartaruga-verde<br>Ano=%{x}<br>Contagem=%{text}<extra></extra>",
         "legendgroup": "Tartaruga-verde",
         "marker": {
          "color": "#636efa",
          "pattern": {
           "shape": ""
          }
         },
         "name": "Tartaruga-verde",
         "offsetgroup": "Tartaruga-verde",
         "orientation": "v",
         "showlegend": true,
         "text": [
          312,
          315,
          320,
          247
         ],
         "textposition": "outside",
         "texttemplate": "%{text}",
         "type": "bar",
         "x": [
          2012,
          2013,
          2014,
          2015
         ],
         "xaxis": "x",
         "y": [
          312,
          315,
          320,
          247
         ],
         "yaxis": "y"
        },
        {
         "alignmentgroup": "True",
         "hovertemplate": "Nome comum=Tartaruga-de-pente<br>Ano=%{x}<br>Contagem=%{text}<extra></extra>",
         "legendgroup": "Tartaruga-de-pente",
         "marker": {
          "color": "#EF553B",
          "pattern": {
           "shape": ""
          }
         },
         "name": "Tartaruga-de-pente",
         "offsetgroup": "Tartaruga-de-pente",
         "orientation": "v",
         "showlegend": true,
         "text": [
          72,
          70,
          75,
          55
         ],
         "textposition": "outside",
         "texttemplate": "%{text}",
         "type": "bar",
         "x": [
          2012,
          2013,
          2014,
          2015
         ],
         "xaxis": "x",
         "y": [
          72,
          70,
          75,
          55
         ],
         "yaxis": "y"
        },
        {
         "alignmentgroup": "True",
         "hovertemplate": "Nome comum=Tartaruga-cabeçuda<br>Ano=%{x}<br>Contagem=%{text}<extra></extra>",
         "legendgroup": "Tartaruga-cabeçuda",
         "marker": {
          "color": "#00cc96",
          "pattern": {
           "shape": ""
          }
         },
         "name": "Tartaruga-cabeçuda",
         "offsetgroup": "Tartaruga-cabeçuda",
         "orientation": "v",
         "showlegend": true,
         "text": [
          1
         ],
         "textposition": "outside",
         "texttemplate": "%{text}",
         "type": "bar",
         "x": [
          2013
         ],
         "xaxis": "x",
         "y": [
          1
         ],
         "yaxis": "y"
        },
        {
         "alignmentgroup": "True",
         "hovertemplate": "Nome comum=Tartaruga-oliva<br>Ano=%{x}<br>Contagem=%{text}<extra></extra>",
         "legendgroup": "Tartaruga-oliva",
         "marker": {
          "color": "#ab63fa",
          "pattern": {
           "shape": ""
          }
         },
         "name": "Tartaruga-oliva",
         "offsetgroup": "Tartaruga-oliva",
         "orientation": "v",
         "showlegend": true,
         "text": [
          2,
          1
         ],
         "textposition": "outside",
         "texttemplate": "%{text}",
         "type": "bar",
         "x": [
          2013,
          2015
         ],
         "xaxis": "x",
         "y": [
          2,
          1
         ],
         "yaxis": "y"
        }
       ],
       "layout": {
        "barmode": "group",
        "legend": {
         "title": {
          "text": "Nome Comum"
         },
         "tracegroupgap": 0
        },
        "margin": {
         "t": 60
        },
        "template": {
         "data": {
          "bar": [
           {
            "error_x": {
             "color": "#2a3f5f"
            },
            "error_y": {
             "color": "#2a3f5f"
            },
            "marker": {
             "line": {
              "color": "#E5ECF6",
              "width": 0.5
             },
             "pattern": {
              "fillmode": "overlay",
              "size": 10,
              "solidity": 0.2
             }
            },
            "type": "bar"
           }
          ],
          "barpolar": [
           {
            "marker": {
             "line": {
              "color": "#E5ECF6",
              "width": 0.5
             },
             "pattern": {
              "fillmode": "overlay",
              "size": 10,
              "solidity": 0.2
             }
            },
            "type": "barpolar"
           }
          ],
          "carpet": [
           {
            "aaxis": {
             "endlinecolor": "#2a3f5f",
             "gridcolor": "white",
             "linecolor": "white",
             "minorgridcolor": "white",
             "startlinecolor": "#2a3f5f"
            },
            "baxis": {
             "endlinecolor": "#2a3f5f",
             "gridcolor": "white",
             "linecolor": "white",
             "minorgridcolor": "white",
             "startlinecolor": "#2a3f5f"
            },
            "type": "carpet"
           }
          ],
          "choropleth": [
           {
            "colorbar": {
             "outlinewidth": 0,
             "ticks": ""
            },
            "type": "choropleth"
           }
          ],
          "contour": [
           {
            "colorbar": {
             "outlinewidth": 0,
             "ticks": ""
            },
            "colorscale": [
             [
              0,
              "#0d0887"
             ],
             [
              0.1111111111111111,
              "#46039f"
             ],
             [
              0.2222222222222222,
              "#7201a8"
             ],
             [
              0.3333333333333333,
              "#9c179e"
             ],
             [
              0.4444444444444444,
              "#bd3786"
             ],
             [
              0.5555555555555556,
              "#d8576b"
             ],
             [
              0.6666666666666666,
              "#ed7953"
             ],
             [
              0.7777777777777778,
              "#fb9f3a"
             ],
             [
              0.8888888888888888,
              "#fdca26"
             ],
             [
              1,
              "#f0f921"
             ]
            ],
            "type": "contour"
           }
          ],
          "contourcarpet": [
           {
            "colorbar": {
             "outlinewidth": 0,
             "ticks": ""
            },
            "type": "contourcarpet"
           }
          ],
          "heatmap": [
           {
            "colorbar": {
             "outlinewidth": 0,
             "ticks": ""
            },
            "colorscale": [
             [
              0,
              "#0d0887"
             ],
             [
              0.1111111111111111,
              "#46039f"
             ],
             [
              0.2222222222222222,
              "#7201a8"
             ],
             [
              0.3333333333333333,
              "#9c179e"
             ],
             [
              0.4444444444444444,
              "#bd3786"
             ],
             [
              0.5555555555555556,
              "#d8576b"
             ],
             [
              0.6666666666666666,
              "#ed7953"
             ],
             [
              0.7777777777777778,
              "#fb9f3a"
             ],
             [
              0.8888888888888888,
              "#fdca26"
             ],
             [
              1,
              "#f0f921"
             ]
            ],
            "type": "heatmap"
           }
          ],
          "heatmapgl": [
           {
            "colorbar": {
             "outlinewidth": 0,
             "ticks": ""
            },
            "colorscale": [
             [
              0,
              "#0d0887"
             ],
             [
              0.1111111111111111,
              "#46039f"
             ],
             [
              0.2222222222222222,
              "#7201a8"
             ],
             [
              0.3333333333333333,
              "#9c179e"
             ],
             [
              0.4444444444444444,
              "#bd3786"
             ],
             [
              0.5555555555555556,
              "#d8576b"
             ],
             [
              0.6666666666666666,
              "#ed7953"
             ],
             [
              0.7777777777777778,
              "#fb9f3a"
             ],
             [
              0.8888888888888888,
              "#fdca26"
             ],
             [
              1,
              "#f0f921"
             ]
            ],
            "type": "heatmapgl"
           }
          ],
          "histogram": [
           {
            "marker": {
             "pattern": {
              "fillmode": "overlay",
              "size": 10,
              "solidity": 0.2
             }
            },
            "type": "histogram"
           }
          ],
          "histogram2d": [
           {
            "colorbar": {
             "outlinewidth": 0,
             "ticks": ""
            },
            "colorscale": [
             [
              0,
              "#0d0887"
             ],
             [
              0.1111111111111111,
              "#46039f"
             ],
             [
              0.2222222222222222,
              "#7201a8"
             ],
             [
              0.3333333333333333,
              "#9c179e"
             ],
             [
              0.4444444444444444,
              "#bd3786"
             ],
             [
              0.5555555555555556,
              "#d8576b"
             ],
             [
              0.6666666666666666,
              "#ed7953"
             ],
             [
              0.7777777777777778,
              "#fb9f3a"
             ],
             [
              0.8888888888888888,
              "#fdca26"
             ],
             [
              1,
              "#f0f921"
             ]
            ],
            "type": "histogram2d"
           }
          ],
          "histogram2dcontour": [
           {
            "colorbar": {
             "outlinewidth": 0,
             "ticks": ""
            },
            "colorscale": [
             [
              0,
              "#0d0887"
             ],
             [
              0.1111111111111111,
              "#46039f"
             ],
             [
              0.2222222222222222,
              "#7201a8"
             ],
             [
              0.3333333333333333,
              "#9c179e"
             ],
             [
              0.4444444444444444,
              "#bd3786"
             ],
             [
              0.5555555555555556,
              "#d8576b"
             ],
             [
              0.6666666666666666,
              "#ed7953"
             ],
             [
              0.7777777777777778,
              "#fb9f3a"
             ],
             [
              0.8888888888888888,
              "#fdca26"
             ],
             [
              1,
              "#f0f921"
             ]
            ],
            "type": "histogram2dcontour"
           }
          ],
          "mesh3d": [
           {
            "colorbar": {
             "outlinewidth": 0,
             "ticks": ""
            },
            "type": "mesh3d"
           }
          ],
          "parcoords": [
           {
            "line": {
             "colorbar": {
              "outlinewidth": 0,
              "ticks": ""
             }
            },
            "type": "parcoords"
           }
          ],
          "pie": [
           {
            "automargin": true,
            "type": "pie"
           }
          ],
          "scatter": [
           {
            "fillpattern": {
             "fillmode": "overlay",
             "size": 10,
             "solidity": 0.2
            },
            "type": "scatter"
           }
          ],
          "scatter3d": [
           {
            "line": {
             "colorbar": {
              "outlinewidth": 0,
              "ticks": ""
             }
            },
            "marker": {
             "colorbar": {
              "outlinewidth": 0,
              "ticks": ""
             }
            },
            "type": "scatter3d"
           }
          ],
          "scattercarpet": [
           {
            "marker": {
             "colorbar": {
              "outlinewidth": 0,
              "ticks": ""
             }
            },
            "type": "scattercarpet"
           }
          ],
          "scattergeo": [
           {
            "marker": {
             "colorbar": {
              "outlinewidth": 0,
              "ticks": ""
             }
            },
            "type": "scattergeo"
           }
          ],
          "scattergl": [
           {
            "marker": {
             "colorbar": {
              "outlinewidth": 0,
              "ticks": ""
             }
            },
            "type": "scattergl"
           }
          ],
          "scattermapbox": [
           {
            "marker": {
             "colorbar": {
              "outlinewidth": 0,
              "ticks": ""
             }
            },
            "type": "scattermapbox"
           }
          ],
          "scatterpolar": [
           {
            "marker": {
             "colorbar": {
              "outlinewidth": 0,
              "ticks": ""
             }
            },
            "type": "scatterpolar"
           }
          ],
          "scatterpolargl": [
           {
            "marker": {
             "colorbar": {
              "outlinewidth": 0,
              "ticks": ""
             }
            },
            "type": "scatterpolargl"
           }
          ],
          "scatterternary": [
           {
            "marker": {
             "colorbar": {
              "outlinewidth": 0,
              "ticks": ""
             }
            },
            "type": "scatterternary"
           }
          ],
          "surface": [
           {
            "colorbar": {
             "outlinewidth": 0,
             "ticks": ""
            },
            "colorscale": [
             [
              0,
              "#0d0887"
             ],
             [
              0.1111111111111111,
              "#46039f"
             ],
             [
              0.2222222222222222,
              "#7201a8"
             ],
             [
              0.3333333333333333,
              "#9c179e"
             ],
             [
              0.4444444444444444,
              "#bd3786"
             ],
             [
              0.5555555555555556,
              "#d8576b"
             ],
             [
              0.6666666666666666,
              "#ed7953"
             ],
             [
              0.7777777777777778,
              "#fb9f3a"
             ],
             [
              0.8888888888888888,
              "#fdca26"
             ],
             [
              1,
              "#f0f921"
             ]
            ],
            "type": "surface"
           }
          ],
          "table": [
           {
            "cells": {
             "fill": {
              "color": "#EBF0F8"
             },
             "line": {
              "color": "white"
             }
            },
            "header": {
             "fill": {
              "color": "#C8D4E3"
             },
             "line": {
              "color": "white"
             }
            },
            "type": "table"
           }
          ]
         },
         "layout": {
          "annotationdefaults": {
           "arrowcolor": "#2a3f5f",
           "arrowhead": 0,
           "arrowwidth": 1
          },
          "autotypenumbers": "strict",
          "coloraxis": {
           "colorbar": {
            "outlinewidth": 0,
            "ticks": ""
           }
          },
          "colorscale": {
           "diverging": [
            [
             0,
             "#8e0152"
            ],
            [
             0.1,
             "#c51b7d"
            ],
            [
             0.2,
             "#de77ae"
            ],
            [
             0.3,
             "#f1b6da"
            ],
            [
             0.4,
             "#fde0ef"
            ],
            [
             0.5,
             "#f7f7f7"
            ],
            [
             0.6,
             "#e6f5d0"
            ],
            [
             0.7,
             "#b8e186"
            ],
            [
             0.8,
             "#7fbc41"
            ],
            [
             0.9,
             "#4d9221"
            ],
            [
             1,
             "#276419"
            ]
           ],
           "sequential": [
            [
             0,
             "#0d0887"
            ],
            [
             0.1111111111111111,
             "#46039f"
            ],
            [
             0.2222222222222222,
             "#7201a8"
            ],
            [
             0.3333333333333333,
             "#9c179e"
            ],
            [
             0.4444444444444444,
             "#bd3786"
            ],
            [
             0.5555555555555556,
             "#d8576b"
            ],
            [
             0.6666666666666666,
             "#ed7953"
            ],
            [
             0.7777777777777778,
             "#fb9f3a"
            ],
            [
             0.8888888888888888,
             "#fdca26"
            ],
            [
             1,
             "#f0f921"
            ]
           ],
           "sequentialminus": [
            [
             0,
             "#0d0887"
            ],
            [
             0.1111111111111111,
             "#46039f"
            ],
            [
             0.2222222222222222,
             "#7201a8"
            ],
            [
             0.3333333333333333,
             "#9c179e"
            ],
            [
             0.4444444444444444,
             "#bd3786"
            ],
            [
             0.5555555555555556,
             "#d8576b"
            ],
            [
             0.6666666666666666,
             "#ed7953"
            ],
            [
             0.7777777777777778,
             "#fb9f3a"
            ],
            [
             0.8888888888888888,
             "#fdca26"
            ],
            [
             1,
             "#f0f921"
            ]
           ]
          },
          "colorway": [
           "#636efa",
           "#EF553B",
           "#00cc96",
           "#ab63fa",
           "#FFA15A",
           "#19d3f3",
           "#FF6692",
           "#B6E880",
           "#FF97FF",
           "#FECB52"
          ],
          "font": {
           "color": "#2a3f5f"
          },
          "geo": {
           "bgcolor": "white",
           "lakecolor": "white",
           "landcolor": "#E5ECF6",
           "showlakes": true,
           "showland": true,
           "subunitcolor": "white"
          },
          "hoverlabel": {
           "align": "left"
          },
          "hovermode": "closest",
          "mapbox": {
           "style": "light"
          },
          "paper_bgcolor": "white",
          "plot_bgcolor": "#E5ECF6",
          "polar": {
           "angularaxis": {
            "gridcolor": "white",
            "linecolor": "white",
            "ticks": ""
           },
           "bgcolor": "#E5ECF6",
           "radialaxis": {
            "gridcolor": "white",
            "linecolor": "white",
            "ticks": ""
           }
          },
          "scene": {
           "xaxis": {
            "backgroundcolor": "#E5ECF6",
            "gridcolor": "white",
            "gridwidth": 2,
            "linecolor": "white",
            "showbackground": true,
            "ticks": "",
            "zerolinecolor": "white"
           },
           "yaxis": {
            "backgroundcolor": "#E5ECF6",
            "gridcolor": "white",
            "gridwidth": 2,
            "linecolor": "white",
            "showbackground": true,
            "ticks": "",
            "zerolinecolor": "white"
           },
           "zaxis": {
            "backgroundcolor": "#E5ECF6",
            "gridcolor": "white",
            "gridwidth": 2,
            "linecolor": "white",
            "showbackground": true,
            "ticks": "",
            "zerolinecolor": "white"
           }
          },
          "shapedefaults": {
           "line": {
            "color": "#2a3f5f"
           }
          },
          "ternary": {
           "aaxis": {
            "gridcolor": "white",
            "linecolor": "white",
            "ticks": ""
           },
           "baxis": {
            "gridcolor": "white",
            "linecolor": "white",
            "ticks": ""
           },
           "bgcolor": "#E5ECF6",
           "caxis": {
            "gridcolor": "white",
            "linecolor": "white",
            "ticks": ""
           }
          },
          "title": {
           "x": 0.05
          },
          "xaxis": {
           "automargin": true,
           "gridcolor": "white",
           "linecolor": "white",
           "ticks": "",
           "title": {
            "standoff": 15
           },
           "zerolinecolor": "white",
           "zerolinewidth": 2
          },
          "yaxis": {
           "automargin": true,
           "gridcolor": "white",
           "linecolor": "white",
           "ticks": "",
           "title": {
            "standoff": 15
           },
           "zerolinecolor": "white",
           "zerolinewidth": 2
          }
         }
        },
        "title": {
         "text": "Número de Denúncias por Ano por Espécie de Tartaruga do Estado de Pernambuco de 2012 a 2015"
        },
        "xaxis": {
         "anchor": "y",
         "domain": [
          0,
          1
         ],
         "title": {
          "text": "Ano"
         }
        },
        "yaxis": {
         "anchor": "x",
         "domain": [
          0,
          1
         ],
         "title": {
          "text": "Número de Denúncias"
         }
        }
       }
      }
     },
     "metadata": {},
     "output_type": "display_data"
    },
    {
     "name": "stdout",
     "output_type": "stream",
     "text": [
      "     Ano Nome cientifico na base de dados          Nome comum  Contagem\n",
      "0   2012                   Chelonia mydas     Tartaruga-verde       312\n",
      "1   2012           Eretmochelys imbricata  Tartaruga-de-pente        72\n",
      "2   2013                  Caretta caretta  Tartaruga-cabeçuda         1\n",
      "3   2013                   Chelonia mydas     Tartaruga-verde       315\n",
      "4   2013           Eretmochelys imbricata  Tartaruga-de-pente        70\n",
      "5   2013            Lepidochelys olivacea     Tartaruga-oliva         2\n",
      "6   2014                   Chelonia mydas     Tartaruga-verde       320\n",
      "7   2014           Eretmochelys imbricata  Tartaruga-de-pente        75\n",
      "8   2015                   Chelonia mydas     Tartaruga-verde       247\n",
      "9   2015           Eretmochelys imbricata  Tartaruga-de-pente        55\n",
      "10  2015            Lepidochelys olivacea     Tartaruga-oliva         1\n"
     ]
    }
   ],
   "source": [
    "import pandas as pd\n",
    "import plotly.express as px\n",
    "\n",
    "# Ler o arquivo CSV\n",
    "a = pd.read_csv('RegistroPernambuco.csv', sep=',')\n",
    "\n",
    "# Extrair o ano da coluna \"Data do registro\"\n",
    "a['Ano'] = pd.to_datetime(a['Data do registro'], format='%d/%m/%Y').dt.year\n",
    "a['Data do registro'] = pd.to_datetime(a['Data do registro'], format='%d/%m/%Y')\n",
    "a = a[a['Data do registro'].dt.year >= 2012]\n",
    "# Agrupar os dados por ano, espécies de tartarugas e \"nome comum\" e contar o número de denúncias em cada grupo\n",
    "contagem_por_ano_especie_nome_comum = a.groupby(['Ano', 'Nome cientifico na base de dados', 'Nome comum']).size().reset_index(name='Contagem')\n",
    "\n",
    "# Criar o gráfico de barras interativo com plotly\n",
    "fig = px.bar(contagem_por_ano_especie_nome_comum, x='Ano', y='Contagem', color='Nome comum', barmode='group',\n",
    "             text='Contagem')  # Especificar o texto exato a ser exibido sobre cada barra\n",
    "\n",
    "# Configurações adicionais do layout do gráfico\n",
    "fig.update_layout(title='Número de Denúncias por Ano por Espécie de Tartaruga do Estado de Pernambuco de 2012 a 2015',\n",
    "                  xaxis_title='Ano',\n",
    "                  yaxis_title='Número de Denúncias',\n",
    "                  legend_title='Nome Comum')\n",
    "\n",
    "# Ajustar a posição do texto dos valores para sempre aparecer na horizontal em cima de cada barra\n",
    "fig.update_traces(texttemplate='%{text}', textposition='outside')\n",
    "\n",
    "# Exibir o gráfico interativo\n",
    "fig.show()\n",
    "print(contagem_por_ano_especie_nome_comum)\n"
   ]
  },
  {
   "cell_type": "code",
   "execution_count": 34,
   "metadata": {},
   "outputs": [
    {
     "ename": "ModuleNotFoundError",
     "evalue": "No module named 'fbprophet'",
     "output_type": "error",
     "traceback": [
      "\u001b[1;31m---------------------------------------------------------------------------\u001b[0m",
      "\u001b[1;31mModuleNotFoundError\u001b[0m                       Traceback (most recent call last)",
      "Cell \u001b[1;32mIn[34], line 3\u001b[0m\n\u001b[0;32m      1\u001b[0m \u001b[39mimport\u001b[39;00m \u001b[39mpandas\u001b[39;00m \u001b[39mas\u001b[39;00m \u001b[39mpd\u001b[39;00m\n\u001b[0;32m      2\u001b[0m \u001b[39mimport\u001b[39;00m \u001b[39mmatplotlib\u001b[39;00m\u001b[39m.\u001b[39;00m\u001b[39mpyplot\u001b[39;00m \u001b[39mas\u001b[39;00m \u001b[39mplt\u001b[39;00m\n\u001b[1;32m----> 3\u001b[0m \u001b[39mfrom\u001b[39;00m \u001b[39mfbprophet\u001b[39;00m \u001b[39mimport\u001b[39;00m Prophet\n\u001b[0;32m      5\u001b[0m \u001b[39m# Carregar dados do CSV\u001b[39;00m\n\u001b[0;32m      6\u001b[0m dados \u001b[39m=\u001b[39m pd\u001b[39m.\u001b[39mread_csv(\u001b[39m'\u001b[39m\u001b[39mregistroPernambuco.csv\u001b[39m\u001b[39m'\u001b[39m)\n",
      "\u001b[1;31mModuleNotFoundError\u001b[0m: No module named 'fbprophet'"
     ]
    }
   ],
   "source": [
    "import pandas as pd\n",
    "import matplotlib.pyplot as plt\n",
    "from fbprophet import Prophet\n",
    "\n",
    "# Carregar dados do CSV\n",
    "dados = pd.read_csv('registroPernambuco.csv')\n",
    "\n",
    "# Converter a coluna 'Data do registro' para o tipo datetime\n",
    "dados['Data do registro'] = pd.to_datetime(dados['Data do registro'])\n",
    "\n",
    "# Criar um DataFrame com colunas 'ds' (datas) e 'y' (número de denúncias)\n",
    "dados_temporais = dados.rename(columns={'Data do registro': 'ds', 'Denuncias': 'y'})\n",
    "\n",
    "# Criar e ajustar o modelo Prophet\n",
    "modelo = Prophet()\n",
    "modelo.fit(dados_temporais)\n",
    "\n",
    "# Criar um DataFrame para previsões futuras\n",
    "futuro = modelo.make_future_dataframe(periods=11, freq='Y')  # Prever os próximos 11 anos\n",
    "\n",
    "# Realizar previsões para o futuro\n",
    "previsoes = modelo.predict(futuro)\n",
    "\n",
    "# Plotar os resultados\n",
    "fig = modelo.plot(previsoes)\n",
    "plt.xlabel('Ano')\n",
    "plt.ylabel('Quantidade de Denúncias')\n",
    "plt.title('Previsão de Denúncias para os Próximos Anos')\n",
    "plt.show()\n"
   ]
  },
  {
   "cell_type": "code",
   "execution_count": null,
   "metadata": {},
   "outputs": [],
   "source": [
    "import pandas as pd\n",
    "import plotly.express as px\n",
    "\n",
    "# Ler o arquivo CSV\n",
    "a = pd.read_csv('/kaggle/input/dadosgraficosinterativos/RegistroPernambuco.csv', sep=',')\n",
    "\n",
    "# Extrair o ano da coluna \"Data do registro\"\n",
    "a['Ano'] = pd.to_datetime(a['Data do registro'], format='%d/%m/%Y').dt.year\n",
    "a['Data do registro'] = pd.to_datetime(a['Data do registro'], format='%d/%m/%Y')\n",
    "a = a[a['Data do registro'].dt.year >= 2012]\n",
    "# Agrupar os dados por ano, espécies de tartarugas e \"nome comum\" e contar o número de denúncias em cada grupo\n",
    "contagem_por_ano_especie_nome_comum = a.groupby(['Ano', 'Nome cientifico na base de dados', 'Nome comum']).size().reset_index(name='Contagem')\n",
    "\n",
    "# Criar o gráfico de barras interativo com plotly\n",
    "fig = px.bar(contagem_por_ano_especie_nome_comum, x='Ano', y='Contagem', color='Nome comum', barmode='group',\n",
    "             text='Contagem')  # Especificar o texto exato a ser exibido sobre cada barra\n",
    "\n",
    "# Configurações adicionais do layout do gráfico\n",
    "fig.update_layout(title='Número de Denúncias por Ano por Espécie de Tartaruga',\n",
    "                  xaxis_title='Ano',\n",
    "                  yaxis_title='Número de Denúncias',\n",
    "                  legend_title='Nome Comum')\n",
    "\n",
    "# Ajustar a posição do texto dos valores para sempre aparecer na horizontal em cima de cada barra\n",
    "fig.update_traces(texttemplate='%{text}', textposition='outside')\n",
    "\n",
    "# Exibir o gráfico interativo\n",
    "fig.show()\n"
   ]
  },
  {
   "cell_type": "code",
   "execution_count": null,
   "metadata": {},
   "outputs": [
    {
     "name": "stderr",
     "output_type": "stream",
     "text": [
      "C:\\Users\\João Victor\\AppData\\Local\\Temp\\ipykernel_15324\\1874079242.py:7: UserWarning: Parsing dates in %d/%m/%Y format when dayfirst=False (the default) was specified. Pass `dayfirst=True` or specify a format to silence this warning.\n",
      "  df['Data do registro'] = pd.to_datetime(df['Data do registro'])\n"
     ]
    },
    {
     "data": {
      "image/png": "[encoded data removed]",
      "text/plain": [
       "<Figure size 1200x600 with 1 Axes>"
      ]
     },
     "metadata": {},
     "output_type": "display_data"
    },
    {
     "data": {
      "image/png": "[encoded data removed]",
      "text/plain": [
       "<Figure size 1000x600 with 1 Axes>"
      ]
     },
     "metadata": {},
     "output_type": "display_data"
    }
   ],
   "source": [
    "import pandas as pd\n",
    "import matplotlib.pyplot as plt\n",
    "\n",
    "df = pd.read_csv('RegistroPernambuco.csv')\n",
    "\n",
    "# Converter as colunas de data para o formato de data/hora\n",
    "df['Data do registro'] = pd.to_datetime(df['Data do registro'])\n",
    "df['Data do evento'] = pd.to_datetime(df['Data do evento'], errors='coerce')\n",
    "df['Data de Carencia'] = pd.to_datetime(df['Data de Carencia'], errors='coerce')\n",
    "\n",
    "# Visualizar a distribuição dos registros ao longo do tempo\n",
    "plt.figure(figsize=(12, 6))\n",
    "plt.plot(df['Data do registro'], '.', markersize=2)\n",
    "plt.xlabel('Data do registro')\n",
    "plt.ylabel('Número de registros')\n",
    "plt.title('Distribuição dos registros ao longo do tempo')\n",
    "plt.show()\n",
    "\n",
    "# Contagem de registros por ano\n",
    "df['Ano do registro'] = df['Data do registro'].dt.year\n",
    "contagem_por_ano = df['Ano do registro'].value_counts()\n",
    "\n",
    "# Gráfico de barras para visualizar a contagem de registros por ano\n",
    "plt.figure(figsize=(10, 6))\n",
    "contagem_por_ano.plot(kind='bar')\n",
    "plt.xlabel('Ano')\n",
    "plt.ylabel('Número de registros')\n",
    "plt.title('Contagem de registros por ano')\n",
    "plt.show()\n"
   ]
  },
  {
   "cell_type": "code",
   "execution_count": null,
   "metadata": {},
   "outputs": [
    {
     "name": "stderr",
     "output_type": "stream",
     "text": [
      "C:\\Users\\João Victor\\AppData\\Local\\Temp\\ipykernel_15324\\2868894576.py:7: UserWarning: Parsing dates in %d/%m/%Y format when dayfirst=False (the default) was specified. Pass `dayfirst=True` or specify a format to silence this warning.\n",
      "  df['Data do registro'] = pd.to_datetime(df['Data do registro'])\n"
     ]
    },
    {
     "data": {
      "image/png": "[encoded data removed]",
      "text/plain": [
       "<Figure size 1200x600 with 1 Axes>"
      ]
     },
     "metadata": {},
     "output_type": "display_data"
    },
    {
     "data": {
      "image/png": "[encoded data removed]",
      "text/plain": [
       "<Figure size 1000x600 with 1 Axes>"
      ]
     },
     "metadata": {},
     "output_type": "display_data"
    }
   ],
   "source": [
    "import pandas as pd\n",
    "import matplotlib.pyplot as plt\n",
    "\n",
    "df = pd.read_csv('RegistroPernambuco.csv')\n",
    "\n",
    "# Converter as colunas de data para o formato de data/hora\n",
    "df['Data do registro'] = pd.to_datetime(df['Data do registro'])\n",
    "df['Data do evento'] = pd.to_datetime(df['Data do evento'], errors='coerce')\n",
    "df['Data de Carencia'] = pd.to_datetime(df['Data de Carencia'], errors='coerce')\n",
    "\n",
    "# Filtrar registros a partir de 2010\n",
    "df = df[df['Data do registro'].dt.year >= 2010]\n",
    "\n",
    "# Visualizar a distribuição dos registros ao longo do tempo\n",
    "plt.figure(figsize=(12, 6))\n",
    "plt.plot(df['Data do registro'], '.', markersize=2)\n",
    "plt.xlabel('Data do registro')\n",
    "plt.ylabel('Número de registros')\n",
    "plt.title('Distribuição dos registros ao longo do tempo (de 2010 em diante)')\n",
    "plt.show()\n",
    "\n",
    "# Contagem de registros por ano\n",
    "df['Ano do registro'] = df['Data do registro'].dt.year\n",
    "contagem_por_ano = df['Ano do registro'].value_counts()\n",
    "\n",
    "# Gráfico de barras para visualizar a contagem de registros por ano\n",
    "plt.figure(figsize=(10, 6))\n",
    "contagem_por_ano.plot(kind='bar')\n",
    "plt.xlabel('Ano')\n",
    "plt.ylabel('Número de registros')\n",
    "plt.title('Contagem de registros por ano (de 2010 em diante)')\n",
    "plt.show()\n"
   ]
  },
  {
   "cell_type": "code",
   "execution_count": null,
   "metadata": {},
   "outputs": [
    {
     "name": "stderr",
     "output_type": "stream",
     "text": [
      "C:\\Users\\João Victor\\AppData\\Local\\Temp\\ipykernel_15324\\1909481659.py:7: UserWarning: Parsing dates in %d/%m/%Y format when dayfirst=False (the default) was specified. Pass `dayfirst=True` or specify a format to silence this warning.\n",
      "  df['Data do registro'] = pd.to_datetime(df['Data do registro'])\n"
     ]
    },
    {
     "data": {
      "text/plain": [
       "<Figure size 1200x600 with 0 Axes>"
      ]
     },
     "metadata": {},
     "output_type": "display_data"
    },
    {
     "data": {
      "image/png": "[encoded data removed]",
      "text/plain": [
       "<Figure size 640x480 with 1 Axes>"
      ]
     },
     "metadata": {},
     "output_type": "display_data"
    }
   ],
   "source": [
    "import pandas as pd\n",
    "import matplotlib.pyplot as plt\n",
    "\n",
    "df = pd.read_csv('RegistroPernambuco.csv')\n",
    "\n",
    "# Converter as colunas de data para o formato de data/hora\n",
    "df['Data do registro'] = pd.to_datetime(df['Data do registro'])\n",
    "df['Data do evento'] = pd.to_datetime(df['Data do evento'], errors='coerce')\n",
    "df['Data de Carencia'] = pd.to_datetime(df['Data de Carencia'], errors='coerce')\n",
    "\n",
    "# Filtrar registros a partir de 2010\n",
    "df = df[df['Data do registro'].dt.year >= 2010]\n",
    "\n",
    "# Criar uma tabela dinâmica para contar a ocorrência de cada nome comum em cada ano\n",
    "tabela_pivot = pd.pivot_table(df, index='Nome comum', columns=df['Data do registro'].dt.year, aggfunc='size', fill_value=0)\n",
    "\n",
    "# Plotar um gráfico de linhas para visualizar a variação dos nomes comuns ao longo dos anos\n",
    "plt.figure(figsize=(12, 6))\n",
    "tabela_pivot.T.plot(legend=True)\n",
    "plt.xlabel('Ano')\n",
    "plt.ylabel('Número de registros')\n",
    "plt.title('Variação número de denúncias por espécie de tartarugas ao longo dos anos')\n",
    "plt.show()"
   ]
  },
  {
   "cell_type": "code",
   "execution_count": null,
   "metadata": {},
   "outputs": [
    {
     "data": {
      "application/vnd.plotly.v1+json": {
       "config": {
        "plotlyServerURL": "https://plot.ly"
       },
       "data": [
        {
         "alignmentgroup": "True",
         "hovertemplate": "Nome comum=Tartaruga-verde<br>Sigla Mes=%{x}<br>Contagem=%{text}<extra></extra>",
         "legendgroup": "Tartaruga-verde",
         "marker": {
          "color": "#636efa",
          "pattern": {
           "shape": ""
          }
         },
         "name": "Tartaruga-verde",
         "offsetgroup": "Tartaruga-verde",
         "orientation": "v",
         "showlegend": true,
         "text": [
          13,
          45,
          16,
          24,
          30,
          32,
          21,
          24,
          46,
          18,
          21,
          22
         ],
         "textposition": "outside",
         "texttemplate": "%{text}",
         "type": "bar",
         "x": [
          "Abr",
          "Ago",
          "Dez",
          "Fev",
          "Jan",
          "Jul",
          "Jun",
          "Mai",
          "Mar",
          "Nov",
          "Out",
          "Set"
         ],
         "xaxis": "x",
         "y": [
          13,
          45,
          16,
          24,
          30,
          32,
          21,
          24,
          46,
          18,
          21,
          22
         ],
         "yaxis": "y"
        },
        {
         "alignmentgroup": "True",
         "hovertemplate": "Nome comum=Tartaruga-de-pente<br>Sigla Mes=%{x}<br>Contagem=%{text}<extra></extra>",
         "legendgroup": "Tartaruga-de-pente",
         "marker": {
          "color": "#EF553B",
          "pattern": {
           "shape": ""
          }
         },
         "name": "Tartaruga-de-pente",
         "offsetgroup": "Tartaruga-de-pente",
         "orientation": "v",
         "showlegend": true,
         "text": [
          5,
          7,
          6,
          8,
          6,
          10,
          10,
          7,
          2,
          2,
          4,
          5
         ],
         "textposition": "outside",
         "texttemplate": "%{text}",
         "type": "bar",
         "x": [
          "Abr",
          "Ago",
          "Dez",
          "Fev",
          "Jan",
          "Jul",
          "Jun",
          "Mai",
          "Mar",
          "Nov",
          "Out",
          "Set"
         ],
         "xaxis": "x",
         "y": [
          5,
          7,
          6,
          8,
          6,
          10,
          10,
          7,
          2,
          2,
          4,
          5
         ],
         "yaxis": "y"
        }
       ],
       "layout": {
        "barmode": "relative",
        "legend": {
         "title": {
          "text": "Nome Comum"
         },
         "tracegroupgap": 0
        },
        "margin": {
         "t": 60
        },
        "template": {
         "data": {
          "bar": [
           {
            "error_x": {
             "color": "#2a3f5f"
            },
            "error_y": {
             "color": "#2a3f5f"
            },
            "marker": {
             "line": {
              "color": "#E5ECF6",
              "width": 0.5
             },
             "pattern": {
              "fillmode": "overlay",
              "size": 10,
              "solidity": 0.2
             }
            },
            "type": "bar"
           }
          ],
          "barpolar": [
           {
            "marker": {
             "line": {
              "color": "#E5ECF6",
              "width": 0.5
             },
             "pattern": {
              "fillmode": "overlay",
              "size": 10,
              "solidity": 0.2
             }
            },
            "type": "barpolar"
           }
          ],
          "carpet": [
           {
            "aaxis": {
             "endlinecolor": "#2a3f5f",
             "gridcolor": "white",
             "linecolor": "white",
             "minorgridcolor": "white",
             "startlinecolor": "#2a3f5f"
            },
            "baxis": {
             "endlinecolor": "#2a3f5f",
             "gridcolor": "white",
             "linecolor": "white",
             "minorgridcolor": "white",
             "startlinecolor": "#2a3f5f"
            },
            "type": "carpet"
           }
          ],
          "choropleth": [
           {
            "colorbar": {
             "outlinewidth": 0,
             "ticks": ""
            },
            "type": "choropleth"
           }
          ],
          "contour": [
           {
            "colorbar": {
             "outlinewidth": 0,
             "ticks": ""
            },
            "colorscale": [
             [
              0,
              "#0d0887"
             ],
             [
              0.1111111111111111,
              "#46039f"
             ],
             [
              0.2222222222222222,
              "#7201a8"
             ],
             [
              0.3333333333333333,
              "#9c179e"
             ],
             [
              0.4444444444444444,
              "#bd3786"
             ],
             [
              0.5555555555555556,
              "#d8576b"
             ],
             [
              0.6666666666666666,
              "#ed7953"
             ],
             [
              0.7777777777777778,
              "#fb9f3a"
             ],
             [
              0.8888888888888888,
              "#fdca26"
             ],
             [
              1,
              "#f0f921"
             ]
            ],
            "type": "contour"
           }
          ],
          "contourcarpet": [
           {
            "colorbar": {
             "outlinewidth": 0,
             "ticks": ""
            },
            "type": "contourcarpet"
           }
          ],
          "heatmap": [
           {
            "colorbar": {
             "outlinewidth": 0,
             "ticks": ""
            },
            "colorscale": [
             [
              0,
              "#0d0887"
             ],
             [
              0.1111111111111111,
              "#46039f"
             ],
             [
              0.2222222222222222,
              "#7201a8"
             ],
             [
              0.3333333333333333,
              "#9c179e"
             ],
             [
              0.4444444444444444,
              "#bd3786"
             ],
             [
              0.5555555555555556,
              "#d8576b"
             ],
             [
              0.6666666666666666,
              "#ed7953"
             ],
             [
              0.7777777777777778,
              "#fb9f3a"
             ],
             [
              0.8888888888888888,
              "#fdca26"
             ],
             [
              1,
              "#f0f921"
             ]
            ],
            "type": "heatmap"
           }
          ],
          "heatmapgl": [
           {
            "colorbar": {
             "outlinewidth": 0,
             "ticks": ""
            },
            "colorscale": [
             [
              0,
              "#0d0887"
             ],
             [
              0.1111111111111111,
              "#46039f"
             ],
             [
              0.2222222222222222,
              "#7201a8"
             ],
             [
              0.3333333333333333,
              "#9c179e"
             ],
             [
              0.4444444444444444,
              "#bd3786"
             ],
             [
              0.5555555555555556,
              "#d8576b"
             ],
             [
              0.6666666666666666,
              "#ed7953"
             ],
             [
              0.7777777777777778,
              "#fb9f3a"
             ],
             [
              0.8888888888888888,
              "#fdca26"
             ],
             [
              1,
              "#f0f921"
             ]
            ],
            "type": "heatmapgl"
           }
          ],
          "histogram": [
           {
            "marker": {
             "pattern": {
              "fillmode": "overlay",
              "size": 10,
              "solidity": 0.2
             }
            },
            "type": "histogram"
           }
          ],
          "histogram2d": [
           {
            "colorbar": {
             "outlinewidth": 0,
             "ticks": ""
            },
            "colorscale": [
             [
              0,
              "#0d0887"
             ],
             [
              0.1111111111111111,
              "#46039f"
             ],
             [
              0.2222222222222222,
              "#7201a8"
             ],
             [
              0.3333333333333333,
              "#9c179e"
             ],
             [
              0.4444444444444444,
              "#bd3786"
             ],
             [
              0.5555555555555556,
              "#d8576b"
             ],
             [
              0.6666666666666666,
              "#ed7953"
             ],
             [
              0.7777777777777778,
              "#fb9f3a"
             ],
             [
              0.8888888888888888,
              "#fdca26"
             ],
             [
              1,
              "#f0f921"
             ]
            ],
            "type": "histogram2d"
           }
          ],
          "histogram2dcontour": [
           {
            "colorbar": {
             "outlinewidth": 0,
             "ticks": ""
            },
            "colorscale": [
             [
              0,
              "#0d0887"
             ],
             [
              0.1111111111111111,
              "#46039f"
             ],
             [
              0.2222222222222222,
              "#7201a8"
             ],
             [
              0.3333333333333333,
              "#9c179e"
             ],
             [
              0.4444444444444444,
              "#bd3786"
             ],
             [
              0.5555555555555556,
              "#d8576b"
             ],
             [
              0.6666666666666666,
              "#ed7953"
             ],
             [
              0.7777777777777778,
              "#fb9f3a"
             ],
             [
              0.8888888888888888,
              "#fdca26"
             ],
             [
              1,
              "#f0f921"
             ]
            ],
            "type": "histogram2dcontour"
           }
          ],
          "mesh3d": [
           {
            "colorbar": {
             "outlinewidth": 0,
             "ticks": ""
            },
            "type": "mesh3d"
           }
          ],
          "parcoords": [
           {
            "line": {
             "colorbar": {
              "outlinewidth": 0,
              "ticks": ""
             }
            },
            "type": "parcoords"
           }
          ],
          "pie": [
           {
            "automargin": true,
            "type": "pie"
           }
          ],
          "scatter": [
           {
            "fillpattern": {
             "fillmode": "overlay",
             "size": 10,
             "solidity": 0.2
            },
            "type": "scatter"
           }
          ],
          "scatter3d": [
           {
            "line": {
             "colorbar": {
              "outlinewidth": 0,
              "ticks": ""
             }
            },
            "marker": {
             "colorbar": {
              "outlinewidth": 0,
              "ticks": ""
             }
            },
            "type": "scatter3d"
           }
          ],
          "scattercarpet": [
           {
            "marker": {
             "colorbar": {
              "outlinewidth": 0,
              "ticks": ""
             }
            },
            "type": "scattercarpet"
           }
          ],
          "scattergeo": [
           {
            "marker": {
             "colorbar": {
              "outlinewidth": 0,
              "ticks": ""
             }
            },
            "type": "scattergeo"
           }
          ],
          "scattergl": [
           {
            "marker": {
             "colorbar": {
              "outlinewidth": 0,
              "ticks": ""
             }
            },
            "type": "scattergl"
           }
          ],
          "scattermapbox": [
           {
            "marker": {
             "colorbar": {
              "outlinewidth": 0,
              "ticks": ""
             }
            },
            "type": "scattermapbox"
           }
          ],
          "scatterpolar": [
           {
            "marker": {
             "colorbar": {
              "outlinewidth": 0,
              "ticks": ""
             }
            },
            "type": "scatterpolar"
           }
          ],
          "scatterpolargl": [
           {
            "marker": {
             "colorbar": {
              "outlinewidth": 0,
              "ticks": ""
             }
            },
            "type": "scatterpolargl"
           }
          ],
          "scatterternary": [
           {
            "marker": {
             "colorbar": {
              "outlinewidth": 0,
              "ticks": ""
             }
            },
            "type": "scatterternary"
           }
          ],
          "surface": [
           {
            "colorbar": {
             "outlinewidth": 0,
             "ticks": ""
            },
            "colorscale": [
             [
              0,
              "#0d0887"
             ],
             [
              0.1111111111111111,
              "#46039f"
             ],
             [
              0.2222222222222222,
              "#7201a8"
             ],
             [
              0.3333333333333333,
              "#9c179e"
             ],
             [
              0.4444444444444444,
              "#bd3786"
             ],
             [
              0.5555555555555556,
              "#d8576b"
             ],
             [
              0.6666666666666666,
              "#ed7953"
             ],
             [
              0.7777777777777778,
              "#fb9f3a"
             ],
             [
              0.8888888888888888,
              "#fdca26"
             ],
             [
              1,
              "#f0f921"
             ]
            ],
            "type": "surface"
           }
          ],
          "table": [
           {
            "cells": {
             "fill": {
              "color": "#EBF0F8"
             },
             "line": {
              "color": "white"
             }
            },
            "header": {
             "fill": {
              "color": "#C8D4E3"
             },
             "line": {
              "color": "white"
             }
            },
            "type": "table"
           }
          ]
         },
         "layout": {
          "annotationdefaults": {
           "arrowcolor": "#2a3f5f",
           "arrowhead": 0,
           "arrowwidth": 1
          },
          "autotypenumbers": "strict",
          "coloraxis": {
           "colorbar": {
            "outlinewidth": 0,
            "ticks": ""
           }
          },
          "colorscale": {
           "diverging": [
            [
             0,
             "#8e0152"
            ],
            [
             0.1,
             "#c51b7d"
            ],
            [
             0.2,
             "#de77ae"
            ],
            [
             0.3,
             "#f1b6da"
            ],
            [
             0.4,
             "#fde0ef"
            ],
            [
             0.5,
             "#f7f7f7"
            ],
            [
             0.6,
             "#e6f5d0"
            ],
            [
             0.7,
             "#b8e186"
            ],
            [
             0.8,
             "#7fbc41"
            ],
            [
             0.9,
             "#4d9221"
            ],
            [
             1,
             "#276419"
            ]
           ],
           "sequential": [
            [
             0,
             "#0d0887"
            ],
            [
             0.1111111111111111,
             "#46039f"
            ],
            [
             0.2222222222222222,
             "#7201a8"
            ],
            [
             0.3333333333333333,
             "#9c179e"
            ],
            [
             0.4444444444444444,
             "#bd3786"
            ],
            [
             0.5555555555555556,
             "#d8576b"
            ],
            [
             0.6666666666666666,
             "#ed7953"
            ],
            [
             0.7777777777777778,
             "#fb9f3a"
            ],
            [
             0.8888888888888888,
             "#fdca26"
            ],
            [
             1,
             "#f0f921"
            ]
           ],
           "sequentialminus": [
            [
             0,
             "#0d0887"
            ],
            [
             0.1111111111111111,
             "#46039f"
            ],
            [
             0.2222222222222222,
             "#7201a8"
            ],
            [
             0.3333333333333333,
             "#9c179e"
            ],
            [
             0.4444444444444444,
             "#bd3786"
            ],
            [
             0.5555555555555556,
             "#d8576b"
            ],
            [
             0.6666666666666666,
             "#ed7953"
            ],
            [
             0.7777777777777778,
             "#fb9f3a"
            ],
            [
             0.8888888888888888,
             "#fdca26"
            ],
            [
             1,
             "#f0f921"
            ]
           ]
          },
          "colorway": [
           "#636efa",
           "#EF553B",
           "#00cc96",
           "#ab63fa",
           "#FFA15A",
           "#19d3f3",
           "#FF6692",
           "#B6E880",
           "#FF97FF",
           "#FECB52"
          ],
          "font": {
           "color": "#2a3f5f"
          },
          "geo": {
           "bgcolor": "white",
           "lakecolor": "white",
           "landcolor": "#E5ECF6",
           "showlakes": true,
           "showland": true,
           "subunitcolor": "white"
          },
          "hoverlabel": {
           "align": "left"
          },
          "hovermode": "closest",
          "mapbox": {
           "style": "light"
          },
          "paper_bgcolor": "white",
          "plot_bgcolor": "#E5ECF6",
          "polar": {
           "angularaxis": {
            "gridcolor": "white",
            "linecolor": "white",
            "ticks": ""
           },
           "bgcolor": "#E5ECF6",
           "radialaxis": {
            "gridcolor": "white",
            "linecolor": "white",
            "ticks": ""
           }
          },
          "scene": {
           "xaxis": {
            "backgroundcolor": "#E5ECF6",
            "gridcolor": "white",
            "gridwidth": 2,
            "linecolor": "white",
            "showbackground": true,
            "ticks": "",
            "zerolinecolor": "white"
           },
           "yaxis": {
            "backgroundcolor": "#E5ECF6",
            "gridcolor": "white",
            "gridwidth": 2,
            "linecolor": "white",
            "showbackground": true,
            "ticks": "",
            "zerolinecolor": "white"
           },
           "zaxis": {
            "backgroundcolor": "#E5ECF6",
            "gridcolor": "white",
            "gridwidth": 2,
            "linecolor": "white",
            "showbackground": true,
            "ticks": "",
            "zerolinecolor": "white"
           }
          },
          "shapedefaults": {
           "line": {
            "color": "#2a3f5f"
           }
          },
          "ternary": {
           "aaxis": {
            "gridcolor": "white",
            "linecolor": "white",
            "ticks": ""
           },
           "baxis": {
            "gridcolor": "white",
            "linecolor": "white",
            "ticks": ""
           },
           "bgcolor": "#E5ECF6",
           "caxis": {
            "gridcolor": "white",
            "linecolor": "white",
            "ticks": ""
           }
          },
          "title": {
           "x": 0.05
          },
          "xaxis": {
           "automargin": true,
           "gridcolor": "white",
           "linecolor": "white",
           "ticks": "",
           "title": {
            "standoff": 15
           },
           "zerolinecolor": "white",
           "zerolinewidth": 2
          },
          "yaxis": {
           "automargin": true,
           "gridcolor": "white",
           "linecolor": "white",
           "ticks": "",
           "title": {
            "standoff": 15
           },
           "zerolinecolor": "white",
           "zerolinewidth": 2
          }
         }
        },
        "title": {
         "text": "Número de Denúncias por Mês por Espécie de Tartaruga do Estado de Pernambuco (2012)"
        },
        "xaxis": {
         "anchor": "y",
         "categoryarray": [
          "Jan",
          "Fev",
          "Mar",
          "Abr",
          "Mai",
          "Jun",
          "Jul",
          "Ago",
          "Set",
          "Out",
          "Nov",
          "Dez"
         ],
         "categoryorder": "array",
         "domain": [
          0,
          1
         ],
         "title": {
          "text": "Mês"
         }
        },
        "yaxis": {
         "anchor": "x",
         "domain": [
          0,
          1
         ],
         "title": {
          "text": "Número de Denúncias"
         }
        }
       }
      }
     },
     "metadata": {},
     "output_type": "display_data"
    },
    {
     "data": {
      "application/vnd.plotly.v1+json": {
       "config": {
        "plotlyServerURL": "https://plot.ly"
       },
       "data": [
        {
         "alignmentgroup": "True",
         "hovertemplate": "Nome comum=Tartaruga-verde<br>Sigla Mes=%{x}<br>Contagem=%{text}<extra></extra>",
         "legendgroup": "Tartaruga-verde",
         "marker": {
          "color": "#636efa",
          "pattern": {
           "shape": ""
          }
         },
         "name": "Tartaruga-verde",
         "offsetgroup": "Tartaruga-verde",
         "orientation": "v",
         "showlegend": true,
         "text": [
          45,
          23,
          31,
          22,
          26,
          9,
          19,
          35,
          37,
          22,
          18,
          28
         ],
         "textposition": "outside",
         "texttemplate": "%{text}",
         "type": "bar",
         "x": [
          "Abr",
          "Ago",
          "Dez",
          "Fev",
          "Jan",
          "Jul",
          "Jun",
          "Mai",
          "Mar",
          "Nov",
          "Out",
          "Set"
         ],
         "xaxis": "x",
         "y": [
          45,
          23,
          31,
          22,
          26,
          9,
          19,
          35,
          37,
          22,
          18,
          28
         ],
         "yaxis": "y"
        },
        {
         "alignmentgroup": "True",
         "hovertemplate": "Nome comum=Tartaruga-de-pente<br>Sigla Mes=%{x}<br>Contagem=%{text}<extra></extra>",
         "legendgroup": "Tartaruga-de-pente",
         "marker": {
          "color": "#EF553B",
          "pattern": {
           "shape": ""
          }
         },
         "name": "Tartaruga-de-pente",
         "offsetgroup": "Tartaruga-de-pente",
         "orientation": "v",
         "showlegend": true,
         "text": [
          7,
          5,
          5,
          4,
          2,
          6,
          2,
          9,
          4,
          11,
          4,
          11
         ],
         "textposition": "outside",
         "texttemplate": "%{text}",
         "type": "bar",
         "x": [
          "Abr",
          "Ago",
          "Dez",
          "Fev",
          "Jan",
          "Jul",
          "Jun",
          "Mai",
          "Mar",
          "Nov",
          "Out",
          "Set"
         ],
         "xaxis": "x",
         "y": [
          7,
          5,
          5,
          4,
          2,
          6,
          2,
          9,
          4,
          11,
          4,
          11
         ],
         "yaxis": "y"
        },
        {
         "alignmentgroup": "True",
         "hovertemplate": "Nome comum=Tartaruga-cabeçuda<br>Sigla Mes=%{x}<br>Contagem=%{text}<extra></extra>",
         "legendgroup": "Tartaruga-cabeçuda",
         "marker": {
          "color": "#00cc96",
          "pattern": {
           "shape": ""
          }
         },
         "name": "Tartaruga-cabeçuda",
         "offsetgroup": "Tartaruga-cabeçuda",
         "orientation": "v",
         "showlegend": true,
         "text": [
          1
         ],
         "textposition": "outside",
         "texttemplate": "%{text}",
         "type": "bar",
         "x": [
          "Mai"
         ],
         "xaxis": "x",
         "y": [
          1
         ],
         "yaxis": "y"
        },
        {
         "alignmentgroup": "True",
         "hovertemplate": "Nome comum=Tartaruga-oliva<br>Sigla Mes=%{x}<br>Contagem=%{text}<extra></extra>",
         "legendgroup": "Tartaruga-oliva",
         "marker": {
          "color": "#ab63fa",
          "pattern": {
           "shape": ""
          }
         },
         "name": "Tartaruga-oliva",
         "offsetgroup": "Tartaruga-oliva",
         "orientation": "v",
         "showlegend": true,
         "text": [
          2
         ],
         "textposition": "outside",
         "texttemplate": "%{text}",
         "type": "bar",
         "x": [
          "Out"
         ],
         "xaxis": "x",
         "y": [
          2
         ],
         "yaxis": "y"
        }
       ],
       "layout": {
        "barmode": "relative",
        "legend": {
         "title": {
          "text": "Nome Comum"
         },
         "tracegroupgap": 0
        },
        "margin": {
         "t": 60
        },
        "template": {
         "data": {
          "bar": [
           {
            "error_x": {
             "color": "#2a3f5f"
            },
            "error_y": {
             "color": "#2a3f5f"
            },
            "marker": {
             "line": {
              "color": "#E5ECF6",
              "width": 0.5
             },
             "pattern": {
              "fillmode": "overlay",
              "size": 10,
              "solidity": 0.2
             }
            },
            "type": "bar"
           }
          ],
          "barpolar": [
           {
            "marker": {
             "line": {
              "color": "#E5ECF6",
              "width": 0.5
             },
             "pattern": {
              "fillmode": "overlay",
              "size": 10,
              "solidity": 0.2
             }
            },
            "type": "barpolar"
           }
          ],
          "carpet": [
           {
            "aaxis": {
             "endlinecolor": "#2a3f5f",
             "gridcolor": "white",
             "linecolor": "white",
             "minorgridcolor": "white",
             "startlinecolor": "#2a3f5f"
            },
            "baxis": {
             "endlinecolor": "#2a3f5f",
             "gridcolor": "white",
             "linecolor": "white",
             "minorgridcolor": "white",
             "startlinecolor": "#2a3f5f"
            },
            "type": "carpet"
           }
          ],
          "choropleth": [
           {
            "colorbar": {
             "outlinewidth": 0,
             "ticks": ""
            },
            "type": "choropleth"
           }
          ],
          "contour": [
           {
            "colorbar": {
             "outlinewidth": 0,
             "ticks": ""
            },
            "colorscale": [
             [
              0,
              "#0d0887"
             ],
             [
              0.1111111111111111,
              "#46039f"
             ],
             [
              0.2222222222222222,
              "#7201a8"
             ],
             [
              0.3333333333333333,
              "#9c179e"
             ],
             [
              0.4444444444444444,
              "#bd3786"
             ],
             [
              0.5555555555555556,
              "#d8576b"
             ],
             [
              0.6666666666666666,
              "#ed7953"
             ],
             [
              0.7777777777777778,
              "#fb9f3a"
             ],
             [
              0.8888888888888888,
              "#fdca26"
             ],
             [
              1,
              "#f0f921"
             ]
            ],
            "type": "contour"
           }
          ],
          "contourcarpet": [
           {
            "colorbar": {
             "outlinewidth": 0,
             "ticks": ""
            },
            "type": "contourcarpet"
           }
          ],
          "heatmap": [
           {
            "colorbar": {
             "outlinewidth": 0,
             "ticks": ""
            },
            "colorscale": [
             [
              0,
              "#0d0887"
             ],
             [
              0.1111111111111111,
              "#46039f"
             ],
             [
              0.2222222222222222,
              "#7201a8"
             ],
             [
              0.3333333333333333,
              "#9c179e"
             ],
             [
              0.4444444444444444,
              "#bd3786"
             ],
             [
              0.5555555555555556,
              "#d8576b"
             ],
             [
              0.6666666666666666,
              "#ed7953"
             ],
             [
              0.7777777777777778,
              "#fb9f3a"
             ],
             [
              0.8888888888888888,
              "#fdca26"
             ],
             [
              1,
              "#f0f921"
             ]
            ],
            "type": "heatmap"
           }
          ],
          "heatmapgl": [
           {
            "colorbar": {
             "outlinewidth": 0,
             "ticks": ""
            },
            "colorscale": [
             [
              0,
              "#0d0887"
             ],
             [
              0.1111111111111111,
              "#46039f"
             ],
             [
              0.2222222222222222,
              "#7201a8"
             ],
             [
              0.3333333333333333,
              "#9c179e"
             ],
             [
              0.4444444444444444,
              "#bd3786"
             ],
             [
              0.5555555555555556,
              "#d8576b"
             ],
             [
              0.6666666666666666,
              "#ed7953"
             ],
             [
              0.7777777777777778,
              "#fb9f3a"
             ],
             [
              0.8888888888888888,
              "#fdca26"
             ],
             [
              1,
              "#f0f921"
             ]
            ],
            "type": "heatmapgl"
           }
          ],
          "histogram": [
           {
            "marker": {
             "pattern": {
              "fillmode": "overlay",
              "size": 10,
              "solidity": 0.2
             }
            },
            "type": "histogram"
           }
          ],
          "histogram2d": [
           {
            "colorbar": {
             "outlinewidth": 0,
             "ticks": ""
            },
            "colorscale": [
             [
              0,
              "#0d0887"
             ],
             [
              0.1111111111111111,
              "#46039f"
             ],
             [
              0.2222222222222222,
              "#7201a8"
             ],
             [
              0.3333333333333333,
              "#9c179e"
             ],
             [
              0.4444444444444444,
              "#bd3786"
             ],
             [
              0.5555555555555556,
              "#d8576b"
             ],
             [
              0.6666666666666666,
              "#ed7953"
             ],
             [
              0.7777777777777778,
              "#fb9f3a"
             ],
             [
              0.8888888888888888,
              "#fdca26"
             ],
             [
              1,
              "#f0f921"
             ]
            ],
            "type": "histogram2d"
           }
          ],
          "histogram2dcontour": [
           {
            "colorbar": {
             "outlinewidth": 0,
             "ticks": ""
            },
            "colorscale": [
             [
              0,
              "#0d0887"
             ],
             [
              0.1111111111111111,
              "#46039f"
             ],
             [
              0.2222222222222222,
              "#7201a8"
             ],
             [
              0.3333333333333333,
              "#9c179e"
             ],
             [
              0.4444444444444444,
              "#bd3786"
             ],
             [
              0.5555555555555556,
              "#d8576b"
             ],
             [
              0.6666666666666666,
              "#ed7953"
             ],
             [
              0.7777777777777778,
              "#fb9f3a"
             ],
             [
              0.8888888888888888,
              "#fdca26"
             ],
             [
              1,
              "#f0f921"
             ]
            ],
            "type": "histogram2dcontour"
           }
          ],
          "mesh3d": [
           {
            "colorbar": {
             "outlinewidth": 0,
             "ticks": ""
            },
            "type": "mesh3d"
           }
          ],
          "parcoords": [
           {
            "line": {
             "colorbar": {
              "outlinewidth": 0,
              "ticks": ""
             }
            },
            "type": "parcoords"
           }
          ],
          "pie": [
           {
            "automargin": true,
            "type": "pie"
           }
          ],
          "scatter": [
           {
            "fillpattern": {
             "fillmode": "overlay",
             "size": 10,
             "solidity": 0.2
            },
            "type": "scatter"
           }
          ],
          "scatter3d": [
           {
            "line": {
             "colorbar": {
              "outlinewidth": 0,
              "ticks": ""
             }
            },
            "marker": {
             "colorbar": {
              "outlinewidth": 0,
              "ticks": ""
             }
            },
            "type": "scatter3d"
           }
          ],
          "scattercarpet": [
           {
            "marker": {
             "colorbar": {
              "outlinewidth": 0,
              "ticks": ""
             }
            },
            "type": "scattercarpet"
           }
          ],
          "scattergeo": [
           {
            "marker": {
             "colorbar": {
              "outlinewidth": 0,
              "ticks": ""
             }
            },
            "type": "scattergeo"
           }
          ],
          "scattergl": [
           {
            "marker": {
             "colorbar": {
              "outlinewidth": 0,
              "ticks": ""
             }
            },
            "type": "scattergl"
           }
          ],
          "scattermapbox": [
           {
            "marker": {
             "colorbar": {
              "outlinewidth": 0,
              "ticks": ""
             }
            },
            "type": "scattermapbox"
           }
          ],
          "scatterpolar": [
           {
            "marker": {
             "colorbar": {
              "outlinewidth": 0,
              "ticks": ""
             }
            },
            "type": "scatterpolar"
           }
          ],
          "scatterpolargl": [
           {
            "marker": {
             "colorbar": {
              "outlinewidth": 0,
              "ticks": ""
             }
            },
            "type": "scatterpolargl"
           }
          ],
          "scatterternary": [
           {
            "marker": {
             "colorbar": {
              "outlinewidth": 0,
              "ticks": ""
             }
            },
            "type": "scatterternary"
           }
          ],
          "surface": [
           {
            "colorbar": {
             "outlinewidth": 0,
             "ticks": ""
            },
            "colorscale": [
             [
              0,
              "#0d0887"
             ],
             [
              0.1111111111111111,
              "#46039f"
             ],
             [
              0.2222222222222222,
              "#7201a8"
             ],
             [
              0.3333333333333333,
              "#9c179e"
             ],
             [
              0.4444444444444444,
              "#bd3786"
             ],
             [
              0.5555555555555556,
              "#d8576b"
             ],
             [
              0.6666666666666666,
              "#ed7953"
             ],
             [
              0.7777777777777778,
              "#fb9f3a"
             ],
             [
              0.8888888888888888,
              "#fdca26"
             ],
             [
              1,
              "#f0f921"
             ]
            ],
            "type": "surface"
           }
          ],
          "table": [
           {
            "cells": {
             "fill": {
              "color": "#EBF0F8"
             },
             "line": {
              "color": "white"
             }
            },
            "header": {
             "fill": {
              "color": "#C8D4E3"
             },
             "line": {
              "color": "white"
             }
            },
            "type": "table"
           }
          ]
         },
         "layout": {
          "annotationdefaults": {
           "arrowcolor": "#2a3f5f",
           "arrowhead": 0,
           "arrowwidth": 1
          },
          "autotypenumbers": "strict",
          "coloraxis": {
           "colorbar": {
            "outlinewidth": 0,
            "ticks": ""
           }
          },
          "colorscale": {
           "diverging": [
            [
             0,
             "#8e0152"
            ],
            [
             0.1,
             "#c51b7d"
            ],
            [
             0.2,
             "#de77ae"
            ],
            [
             0.3,
             "#f1b6da"
            ],
            [
             0.4,
             "#fde0ef"
            ],
            [
             0.5,
             "#f7f7f7"
            ],
            [
             0.6,
             "#e6f5d0"
            ],
            [
             0.7,
             "#b8e186"
            ],
            [
             0.8,
             "#7fbc41"
            ],
            [
             0.9,
             "#4d9221"
            ],
            [
             1,
             "#276419"
            ]
           ],
           "sequential": [
            [
             0,
             "#0d0887"
            ],
            [
             0.1111111111111111,
             "#46039f"
            ],
            [
             0.2222222222222222,
             "#7201a8"
            ],
            [
             0.3333333333333333,
             "#9c179e"
            ],
            [
             0.4444444444444444,
             "#bd3786"
            ],
            [
             0.5555555555555556,
             "#d8576b"
            ],
            [
             0.6666666666666666,
             "#ed7953"
            ],
            [
             0.7777777777777778,
             "#fb9f3a"
            ],
            [
             0.8888888888888888,
             "#fdca26"
            ],
            [
             1,
             "#f0f921"
            ]
           ],
           "sequentialminus": [
            [
             0,
             "#0d0887"
            ],
            [
             0.1111111111111111,
             "#46039f"
            ],
            [
             0.2222222222222222,
             "#7201a8"
            ],
            [
             0.3333333333333333,
             "#9c179e"
            ],
            [
             0.4444444444444444,
             "#bd3786"
            ],
            [
             0.5555555555555556,
             "#d8576b"
            ],
            [
             0.6666666666666666,
             "#ed7953"
            ],
            [
             0.7777777777777778,
             "#fb9f3a"
            ],
            [
             0.8888888888888888,
             "#fdca26"
            ],
            [
             1,
             "#f0f921"
            ]
           ]
          },
          "colorway": [
           "#636efa",
           "#EF553B",
           "#00cc96",
           "#ab63fa",
           "#FFA15A",
           "#19d3f3",
           "#FF6692",
           "#B6E880",
           "#FF97FF",
           "#FECB52"
          ],
          "font": {
           "color": "#2a3f5f"
          },
          "geo": {
           "bgcolor": "white",
           "lakecolor": "white",
           "landcolor": "#E5ECF6",
           "showlakes": true,
           "showland": true,
           "subunitcolor": "white"
          },
          "hoverlabel": {
           "align": "left"
          },
          "hovermode": "closest",
          "mapbox": {
           "style": "light"
          },
          "paper_bgcolor": "white",
          "plot_bgcolor": "#E5ECF6",
          "polar": {
           "angularaxis": {
            "gridcolor": "white",
            "linecolor": "white",
            "ticks": ""
           },
           "bgcolor": "#E5ECF6",
           "radialaxis": {
            "gridcolor": "white",
            "linecolor": "white",
            "ticks": ""
           }
          },
          "scene": {
           "xaxis": {
            "backgroundcolor": "#E5ECF6",
            "gridcolor": "white",
            "gridwidth": 2,
            "linecolor": "white",
            "showbackground": true,
            "ticks": "",
            "zerolinecolor": "white"
           },
           "yaxis": {
            "backgroundcolor": "#E5ECF6",
            "gridcolor": "white",
            "gridwidth": 2,
            "linecolor": "white",
            "showbackground": true,
            "ticks": "",
            "zerolinecolor": "white"
           },
           "zaxis": {
            "backgroundcolor": "#E5ECF6",
            "gridcolor": "white",
            "gridwidth": 2,
            "linecolor": "white",
            "showbackground": true,
            "ticks": "",
            "zerolinecolor": "white"
           }
          },
          "shapedefaults": {
           "line": {
            "color": "#2a3f5f"
           }
          },
          "ternary": {
           "aaxis": {
            "gridcolor": "white",
            "linecolor": "white",
            "ticks": ""
           },
           "baxis": {
            "gridcolor": "white",
            "linecolor": "white",
            "ticks": ""
           },
           "bgcolor": "#E5ECF6",
           "caxis": {
            "gridcolor": "white",
            "linecolor": "white",
            "ticks": ""
           }
          },
          "title": {
           "x": 0.05
          },
          "xaxis": {
           "automargin": true,
           "gridcolor": "white",
           "linecolor": "white",
           "ticks": "",
           "title": {
            "standoff": 15
           },
           "zerolinecolor": "white",
           "zerolinewidth": 2
          },
          "yaxis": {
           "automargin": true,
           "gridcolor": "white",
           "linecolor": "white",
           "ticks": "",
           "title": {
            "standoff": 15
           },
           "zerolinecolor": "white",
           "zerolinewidth": 2
          }
         }
        },
        "title": {
         "text": "Número de Denúncias por Mês por Espécie de Tartaruga do Estado de Pernambuco (2013)"
        },
        "xaxis": {
         "anchor": "y",
         "categoryarray": [
          "Jan",
          "Fev",
          "Mar",
          "Abr",
          "Mai",
          "Jun",
          "Jul",
          "Ago",
          "Set",
          "Out",
          "Nov",
          "Dez"
         ],
         "categoryorder": "array",
         "domain": [
          0,
          1
         ],
         "title": {
          "text": "Mês"
         }
        },
        "yaxis": {
         "anchor": "x",
         "domain": [
          0,
          1
         ],
         "title": {
          "text": "Número de Denúncias"
         }
        }
       }
      }
     },
     "metadata": {},
     "output_type": "display_data"
    },
    {
     "data": {
      "application/vnd.plotly.v1+json": {
       "config": {
        "plotlyServerURL": "https://plot.ly"
       },
       "data": [
        {
         "alignmentgroup": "True",
         "hovertemplate": "Nome comum=Tartaruga-verde<br>Sigla Mes=%{x}<br>Contagem=%{text}<extra></extra>",
         "legendgroup": "Tartaruga-verde",
         "marker": {
          "color": "#636efa",
          "pattern": {
           "shape": ""
          }
         },
         "name": "Tartaruga-verde",
         "offsetgroup": "Tartaruga-verde",
         "orientation": "v",
         "showlegend": true,
         "text": [
          17,
          21,
          26,
          21,
          23,
          23,
          39,
          20,
          51,
          38,
          25,
          16
         ],
         "textposition": "outside",
         "texttemplate": "%{text}",
         "type": "bar",
         "x": [
          "Abr",
          "Ago",
          "Dez",
          "Fev",
          "Jan",
          "Jul",
          "Jun",
          "Mai",
          "Mar",
          "Nov",
          "Out",
          "Set"
         ],
         "xaxis": "x",
         "y": [
          17,
          21,
          26,
          21,
          23,
          23,
          39,
          20,
          51,
          38,
          25,
          16
         ],
         "yaxis": "y"
        },
        {
         "alignmentgroup": "True",
         "hovertemplate": "Nome comum=Tartaruga-de-pente<br>Sigla Mes=%{x}<br>Contagem=%{text}<extra></extra>",
         "legendgroup": "Tartaruga-de-pente",
         "marker": {
          "color": "#EF553B",
          "pattern": {
           "shape": ""
          }
         },
         "name": "Tartaruga-de-pente",
         "offsetgroup": "Tartaruga-de-pente",
         "orientation": "v",
         "showlegend": true,
         "text": [
          4,
          10,
          5,
          5,
          6,
          1,
          9,
          13,
          6,
          13,
          2,
          1
         ],
         "textposition": "outside",
         "texttemplate": "%{text}",
         "type": "bar",
         "x": [
          "Abr",
          "Ago",
          "Dez",
          "Fev",
          "Jan",
          "Jul",
          "Jun",
          "Mai",
          "Mar",
          "Nov",
          "Out",
          "Set"
         ],
         "xaxis": "x",
         "y": [
          4,
          10,
          5,
          5,
          6,
          1,
          9,
          13,
          6,
          13,
          2,
          1
         ],
         "yaxis": "y"
        }
       ],
       "layout": {
        "barmode": "relative",
        "legend": {
         "title": {
          "text": "Nome Comum"
         },
         "tracegroupgap": 0
        },
        "margin": {
         "t": 60
        },
        "template": {
         "data": {
          "bar": [
           {
            "error_x": {
             "color": "#2a3f5f"
            },
            "error_y": {
             "color": "#2a3f5f"
            },
            "marker": {
             "line": {
              "color": "#E5ECF6",
              "width": 0.5
             },
             "pattern": {
              "fillmode": "overlay",
              "size": 10,
              "solidity": 0.2
             }
            },
            "type": "bar"
           }
          ],
          "barpolar": [
           {
            "marker": {
             "line": {
              "color": "#E5ECF6",
              "width": 0.5
             },
             "pattern": {
              "fillmode": "overlay",
              "size": 10,
              "solidity": 0.2
             }
            },
            "type": "barpolar"
           }
          ],
          "carpet": [
           {
            "aaxis": {
             "endlinecolor": "#2a3f5f",
             "gridcolor": "white",
             "linecolor": "white",
             "minorgridcolor": "white",
             "startlinecolor": "#2a3f5f"
            },
            "baxis": {
             "endlinecolor": "#2a3f5f",
             "gridcolor": "white",
             "linecolor": "white",
             "minorgridcolor": "white",
             "startlinecolor": "#2a3f5f"
            },
            "type": "carpet"
           }
          ],
          "choropleth": [
           {
            "colorbar": {
             "outlinewidth": 0,
             "ticks": ""
            },
            "type": "choropleth"
           }
          ],
          "contour": [
           {
            "colorbar": {
             "outlinewidth": 0,
             "ticks": ""
            },
            "colorscale": [
             [
              0,
              "#0d0887"
             ],
             [
              0.1111111111111111,
              "#46039f"
             ],
             [
              0.2222222222222222,
              "#7201a8"
             ],
             [
              0.3333333333333333,
              "#9c179e"
             ],
             [
              0.4444444444444444,
              "#bd3786"
             ],
             [
              0.5555555555555556,
              "#d8576b"
             ],
             [
              0.6666666666666666,
              "#ed7953"
             ],
             [
              0.7777777777777778,
              "#fb9f3a"
             ],
             [
              0.8888888888888888,
              "#fdca26"
             ],
             [
              1,
              "#f0f921"
             ]
            ],
            "type": "contour"
           }
          ],
          "contourcarpet": [
           {
            "colorbar": {
             "outlinewidth": 0,
             "ticks": ""
            },
            "type": "contourcarpet"
           }
          ],
          "heatmap": [
           {
            "colorbar": {
             "outlinewidth": 0,
             "ticks": ""
            },
            "colorscale": [
             [
              0,
              "#0d0887"
             ],
             [
              0.1111111111111111,
              "#46039f"
             ],
             [
              0.2222222222222222,
              "#7201a8"
             ],
             [
              0.3333333333333333,
              "#9c179e"
             ],
             [
              0.4444444444444444,
              "#bd3786"
             ],
             [
              0.5555555555555556,
              "#d8576b"
             ],
             [
              0.6666666666666666,
              "#ed7953"
             ],
             [
              0.7777777777777778,
              "#fb9f3a"
             ],
             [
              0.8888888888888888,
              "#fdca26"
             ],
             [
              1,
              "#f0f921"
             ]
            ],
            "type": "heatmap"
           }
          ],
          "heatmapgl": [
           {
            "colorbar": {
             "outlinewidth": 0,
             "ticks": ""
            },
            "colorscale": [
             [
              0,
              "#0d0887"
             ],
             [
              0.1111111111111111,
              "#46039f"
             ],
             [
              0.2222222222222222,
              "#7201a8"
             ],
             [
              0.3333333333333333,
              "#9c179e"
             ],
             [
              0.4444444444444444,
              "#bd3786"
             ],
             [
              0.5555555555555556,
              "#d8576b"
             ],
             [
              0.6666666666666666,
              "#ed7953"
             ],
             [
              0.7777777777777778,
              "#fb9f3a"
             ],
             [
              0.8888888888888888,
              "#fdca26"
             ],
             [
              1,
              "#f0f921"
             ]
            ],
            "type": "heatmapgl"
           }
          ],
          "histogram": [
           {
            "marker": {
             "pattern": {
              "fillmode": "overlay",
              "size": 10,
              "solidity": 0.2
             }
            },
            "type": "histogram"
           }
          ],
          "histogram2d": [
           {
            "colorbar": {
             "outlinewidth": 0,
             "ticks": ""
            },
            "colorscale": [
             [
              0,
              "#0d0887"
             ],
             [
              0.1111111111111111,
              "#46039f"
             ],
             [
              0.2222222222222222,
              "#7201a8"
             ],
             [
              0.3333333333333333,
              "#9c179e"
             ],
             [
              0.4444444444444444,
              "#bd3786"
             ],
             [
              0.5555555555555556,
              "#d8576b"
             ],
             [
              0.6666666666666666,
              "#ed7953"
             ],
             [
              0.7777777777777778,
              "#fb9f3a"
             ],
             [
              0.8888888888888888,
              "#fdca26"
             ],
             [
              1,
              "#f0f921"
             ]
            ],
            "type": "histogram2d"
           }
          ],
          "histogram2dcontour": [
           {
            "colorbar": {
             "outlinewidth": 0,
             "ticks": ""
            },
            "colorscale": [
             [
              0,
              "#0d0887"
             ],
             [
              0.1111111111111111,
              "#46039f"
             ],
             [
              0.2222222222222222,
              "#7201a8"
             ],
             [
              0.3333333333333333,
              "#9c179e"
             ],
             [
              0.4444444444444444,
              "#bd3786"
             ],
             [
              0.5555555555555556,
              "#d8576b"
             ],
             [
              0.6666666666666666,
              "#ed7953"
             ],
             [
              0.7777777777777778,
              "#fb9f3a"
             ],
             [
              0.8888888888888888,
              "#fdca26"
             ],
             [
              1,
              "#f0f921"
             ]
            ],
            "type": "histogram2dcontour"
           }
          ],
          "mesh3d": [
           {
            "colorbar": {
             "outlinewidth": 0,
             "ticks": ""
            },
            "type": "mesh3d"
           }
          ],
          "parcoords": [
           {
            "line": {
             "colorbar": {
              "outlinewidth": 0,
              "ticks": ""
             }
            },
            "type": "parcoords"
           }
          ],
          "pie": [
           {
            "automargin": true,
            "type": "pie"
           }
          ],
          "scatter": [
           {
            "fillpattern": {
             "fillmode": "overlay",
             "size": 10,
             "solidity": 0.2
            },
            "type": "scatter"
           }
          ],
          "scatter3d": [
           {
            "line": {
             "colorbar": {
              "outlinewidth": 0,
              "ticks": ""
             }
            },
            "marker": {
             "colorbar": {
              "outlinewidth": 0,
              "ticks": ""
             }
            },
            "type": "scatter3d"
           }
          ],
          "scattercarpet": [
           {
            "marker": {
             "colorbar": {
              "outlinewidth": 0,
              "ticks": ""
             }
            },
            "type": "scattercarpet"
           }
          ],
          "scattergeo": [
           {
            "marker": {
             "colorbar": {
              "outlinewidth": 0,
              "ticks": ""
             }
            },
            "type": "scattergeo"
           }
          ],
          "scattergl": [
           {
            "marker": {
             "colorbar": {
              "outlinewidth": 0,
              "ticks": ""
             }
            },
            "type": "scattergl"
           }
          ],
          "scattermapbox": [
           {
            "marker": {
             "colorbar": {
              "outlinewidth": 0,
              "ticks": ""
             }
            },
            "type": "scattermapbox"
           }
          ],
          "scatterpolar": [
           {
            "marker": {
             "colorbar": {
              "outlinewidth": 0,
              "ticks": ""
             }
            },
            "type": "scatterpolar"
           }
          ],
          "scatterpolargl": [
           {
            "marker": {
             "colorbar": {
              "outlinewidth": 0,
              "ticks": ""
             }
            },
            "type": "scatterpolargl"
           }
          ],
          "scatterternary": [
           {
            "marker": {
             "colorbar": {
              "outlinewidth": 0,
              "ticks": ""
             }
            },
            "type": "scatterternary"
           }
          ],
          "surface": [
           {
            "colorbar": {
             "outlinewidth": 0,
             "ticks": ""
            },
            "colorscale": [
             [
              0,
              "#0d0887"
             ],
             [
              0.1111111111111111,
              "#46039f"
             ],
             [
              0.2222222222222222,
              "#7201a8"
             ],
             [
              0.3333333333333333,
              "#9c179e"
             ],
             [
              0.4444444444444444,
              "#bd3786"
             ],
             [
              0.5555555555555556,
              "#d8576b"
             ],
             [
              0.6666666666666666,
              "#ed7953"
             ],
             [
              0.7777777777777778,
              "#fb9f3a"
             ],
             [
              0.8888888888888888,
              "#fdca26"
             ],
             [
              1,
              "#f0f921"
             ]
            ],
            "type": "surface"
           }
          ],
          "table": [
           {
            "cells": {
             "fill": {
              "color": "#EBF0F8"
             },
             "line": {
              "color": "white"
             }
            },
            "header": {
             "fill": {
              "color": "#C8D4E3"
             },
             "line": {
              "color": "white"
             }
            },
            "type": "table"
           }
          ]
         },
         "layout": {
          "annotationdefaults": {
           "arrowcolor": "#2a3f5f",
           "arrowhead": 0,
           "arrowwidth": 1
          },
          "autotypenumbers": "strict",
          "coloraxis": {
           "colorbar": {
            "outlinewidth": 0,
            "ticks": ""
           }
          },
          "colorscale": {
           "diverging": [
            [
             0,
             "#8e0152"
            ],
            [
             0.1,
             "#c51b7d"
            ],
            [
             0.2,
             "#de77ae"
            ],
            [
             0.3,
             "#f1b6da"
            ],
            [
             0.4,
             "#fde0ef"
            ],
            [
             0.5,
             "#f7f7f7"
            ],
            [
             0.6,
             "#e6f5d0"
            ],
            [
             0.7,
             "#b8e186"
            ],
            [
             0.8,
             "#7fbc41"
            ],
            [
             0.9,
             "#4d9221"
            ],
            [
             1,
             "#276419"
            ]
           ],
           "sequential": [
            [
             0,
             "#0d0887"
            ],
            [
             0.1111111111111111,
             "#46039f"
            ],
            [
             0.2222222222222222,
             "#7201a8"
            ],
            [
             0.3333333333333333,
             "#9c179e"
            ],
            [
             0.4444444444444444,
             "#bd3786"
            ],
            [
             0.5555555555555556,
             "#d8576b"
            ],
            [
             0.6666666666666666,
             "#ed7953"
            ],
            [
             0.7777777777777778,
             "#fb9f3a"
            ],
            [
             0.8888888888888888,
             "#fdca26"
            ],
            [
             1,
             "#f0f921"
            ]
           ],
           "sequentialminus": [
            [
             0,
             "#0d0887"
            ],
            [
             0.1111111111111111,
             "#46039f"
            ],
            [
             0.2222222222222222,
             "#7201a8"
            ],
            [
             0.3333333333333333,
             "#9c179e"
            ],
            [
             0.4444444444444444,
             "#bd3786"
            ],
            [
             0.5555555555555556,
             "#d8576b"
            ],
            [
             0.6666666666666666,
             "#ed7953"
            ],
            [
             0.7777777777777778,
             "#fb9f3a"
            ],
            [
             0.8888888888888888,
             "#fdca26"
            ],
            [
             1,
             "#f0f921"
            ]
           ]
          },
          "colorway": [
           "#636efa",
           "#EF553B",
           "#00cc96",
           "#ab63fa",
           "#FFA15A",
           "#19d3f3",
           "#FF6692",
           "#B6E880",
           "#FF97FF",
           "#FECB52"
          ],
          "font": {
           "color": "#2a3f5f"
          },
          "geo": {
           "bgcolor": "white",
           "lakecolor": "white",
           "landcolor": "#E5ECF6",
           "showlakes": true,
           "showland": true,
           "subunitcolor": "white"
          },
          "hoverlabel": {
           "align": "left"
          },
          "hovermode": "closest",
          "mapbox": {
           "style": "light"
          },
          "paper_bgcolor": "white",
          "plot_bgcolor": "#E5ECF6",
          "polar": {
           "angularaxis": {
            "gridcolor": "white",
            "linecolor": "white",
            "ticks": ""
           },
           "bgcolor": "#E5ECF6",
           "radialaxis": {
            "gridcolor": "white",
            "linecolor": "white",
            "ticks": ""
           }
          },
          "scene": {
           "xaxis": {
            "backgroundcolor": "#E5ECF6",
            "gridcolor": "white",
            "gridwidth": 2,
            "linecolor": "white",
            "showbackground": true,
            "ticks": "",
            "zerolinecolor": "white"
           },
           "yaxis": {
            "backgroundcolor": "#E5ECF6",
            "gridcolor": "white",
            "gridwidth": 2,
            "linecolor": "white",
            "showbackground": true,
            "ticks": "",
            "zerolinecolor": "white"
           },
           "zaxis": {
            "backgroundcolor": "#E5ECF6",
            "gridcolor": "white",
            "gridwidth": 2,
            "linecolor": "white",
            "showbackground": true,
            "ticks": "",
            "zerolinecolor": "white"
           }
          },
          "shapedefaults": {
           "line": {
            "color": "#2a3f5f"
           }
          },
          "ternary": {
           "aaxis": {
            "gridcolor": "white",
            "linecolor": "white",
            "ticks": ""
           },
           "baxis": {
            "gridcolor": "white",
            "linecolor": "white",
            "ticks": ""
           },
           "bgcolor": "#E5ECF6",
           "caxis": {
            "gridcolor": "white",
            "linecolor": "white",
            "ticks": ""
           }
          },
          "title": {
           "x": 0.05
          },
          "xaxis": {
           "automargin": true,
           "gridcolor": "white",
           "linecolor": "white",
           "ticks": "",
           "title": {
            "standoff": 15
           },
           "zerolinecolor": "white",
           "zerolinewidth": 2
          },
          "yaxis": {
           "automargin": true,
           "gridcolor": "white",
           "linecolor": "white",
           "ticks": "",
           "title": {
            "standoff": 15
           },
           "zerolinecolor": "white",
           "zerolinewidth": 2
          }
         }
        },
        "title": {
         "text": "Número de Denúncias por Mês por Espécie de Tartaruga do Estado de Pernambuco (2014)"
        },
        "xaxis": {
         "anchor": "y",
         "categoryarray": [
          "Jan",
          "Fev",
          "Mar",
          "Abr",
          "Mai",
          "Jun",
          "Jul",
          "Ago",
          "Set",
          "Out",
          "Nov",
          "Dez"
         ],
         "categoryorder": "array",
         "domain": [
          0,
          1
         ],
         "title": {
          "text": "Mês"
         }
        },
        "yaxis": {
         "anchor": "x",
         "domain": [
          0,
          1
         ],
         "title": {
          "text": "Número de Denúncias"
         }
        }
       }
      }
     },
     "metadata": {},
     "output_type": "display_data"
    },
    {
     "data": {
      "application/vnd.plotly.v1+json": {
       "config": {
        "plotlyServerURL": "https://plot.ly"
       },
       "data": [
        {
         "alignmentgroup": "True",
         "hovertemplate": "Nome comum=Tartaruga-verde<br>Sigla Mes=%{x}<br>Contagem=%{text}<extra></extra>",
         "legendgroup": "Tartaruga-verde",
         "marker": {
          "color": "#636efa",
          "pattern": {
           "shape": ""
          }
         },
         "name": "Tartaruga-verde",
         "offsetgroup": "Tartaruga-verde",
         "orientation": "v",
         "showlegend": true,
         "text": [
          15,
          35,
          19,
          17,
          29,
          19,
          18,
          12,
          17,
          29,
          21,
          16
         ],
         "textposition": "outside",
         "texttemplate": "%{text}",
         "type": "bar",
         "x": [
          "Abr",
          "Ago",
          "Dez",
          "Fev",
          "Jan",
          "Jul",
          "Jun",
          "Mai",
          "Mar",
          "Nov",
          "Out",
          "Set"
         ],
         "xaxis": "x",
         "y": [
          15,
          35,
          19,
          17,
          29,
          19,
          18,
          12,
          17,
          29,
          21,
          16
         ],
         "yaxis": "y"
        },
        {
         "alignmentgroup": "True",
         "hovertemplate": "Nome comum=Tartaruga-de-pente<br>Sigla Mes=%{x}<br>Contagem=%{text}<extra></extra>",
         "legendgroup": "Tartaruga-de-pente",
         "marker": {
          "color": "#EF553B",
          "pattern": {
           "shape": ""
          }
         },
         "name": "Tartaruga-de-pente",
         "offsetgroup": "Tartaruga-de-pente",
         "orientation": "v",
         "showlegend": true,
         "text": [
          2,
          9,
          8,
          7,
          2,
          7,
          4,
          2,
          3,
          2,
          2,
          7
         ],
         "textposition": "outside",
         "texttemplate": "%{text}",
         "type": "bar",
         "x": [
          "Abr",
          "Ago",
          "Dez",
          "Fev",
          "Jan",
          "Jul",
          "Jun",
          "Mai",
          "Mar",
          "Nov",
          "Out",
          "Set"
         ],
         "xaxis": "x",
         "y": [
          2,
          9,
          8,
          7,
          2,
          7,
          4,
          2,
          3,
          2,
          2,
          7
         ],
         "yaxis": "y"
        },
        {
         "alignmentgroup": "True",
         "hovertemplate": "Nome comum=Tartaruga-oliva<br>Sigla Mes=%{x}<br>Contagem=%{text}<extra></extra>",
         "legendgroup": "Tartaruga-oliva",
         "marker": {
          "color": "#00cc96",
          "pattern": {
           "shape": ""
          }
         },
         "name": "Tartaruga-oliva",
         "offsetgroup": "Tartaruga-oliva",
         "orientation": "v",
         "showlegend": true,
         "text": [
          1
         ],
         "textposition": "outside",
         "texttemplate": "%{text}",
         "type": "bar",
         "x": [
          "Dez"
         ],
         "xaxis": "x",
         "y": [
          1
         ],
         "yaxis": "y"
        }
       ],
       "layout": {
        "barmode": "relative",
        "legend": {
         "title": {
          "text": "Nome Comum"
         },
         "tracegroupgap": 0
        },
        "margin": {
         "t": 60
        },
        "template": {
         "data": {
          "bar": [
           {
            "error_x": {
             "color": "#2a3f5f"
            },
            "error_y": {
             "color": "#2a3f5f"
            },
            "marker": {
             "line": {
              "color": "#E5ECF6",
              "width": 0.5
             },
             "pattern": {
              "fillmode": "overlay",
              "size": 10,
              "solidity": 0.2
             }
            },
            "type": "bar"
           }
          ],
          "barpolar": [
           {
            "marker": {
             "line": {
              "color": "#E5ECF6",
              "width": 0.5
             },
             "pattern": {
              "fillmode": "overlay",
              "size": 10,
              "solidity": 0.2
             }
            },
            "type": "barpolar"
           }
          ],
          "carpet": [
           {
            "aaxis": {
             "endlinecolor": "#2a3f5f",
             "gridcolor": "white",
             "linecolor": "white",
             "minorgridcolor": "white",
             "startlinecolor": "#2a3f5f"
            },
            "baxis": {
             "endlinecolor": "#2a3f5f",
             "gridcolor": "white",
             "linecolor": "white",
             "minorgridcolor": "white",
             "startlinecolor": "#2a3f5f"
            },
            "type": "carpet"
           }
          ],
          "choropleth": [
           {
            "colorbar": {
             "outlinewidth": 0,
             "ticks": ""
            },
            "type": "choropleth"
           }
          ],
          "contour": [
           {
            "colorbar": {
             "outlinewidth": 0,
             "ticks": ""
            },
            "colorscale": [
             [
              0,
              "#0d0887"
             ],
             [
              0.1111111111111111,
              "#46039f"
             ],
             [
              0.2222222222222222,
              "#7201a8"
             ],
             [
              0.3333333333333333,
              "#9c179e"
             ],
             [
              0.4444444444444444,
              "#bd3786"
             ],
             [
              0.5555555555555556,
              "#d8576b"
             ],
             [
              0.6666666666666666,
              "#ed7953"
             ],
             [
              0.7777777777777778,
              "#fb9f3a"
             ],
             [
              0.8888888888888888,
              "#fdca26"
             ],
             [
              1,
              "#f0f921"
             ]
            ],
            "type": "contour"
           }
          ],
          "contourcarpet": [
           {
            "colorbar": {
             "outlinewidth": 0,
             "ticks": ""
            },
            "type": "contourcarpet"
           }
          ],
          "heatmap": [
           {
            "colorbar": {
             "outlinewidth": 0,
             "ticks": ""
            },
            "colorscale": [
             [
              0,
              "#0d0887"
             ],
             [
              0.1111111111111111,
              "#46039f"
             ],
             [
              0.2222222222222222,
              "#7201a8"
             ],
             [
              0.3333333333333333,
              "#9c179e"
             ],
             [
              0.4444444444444444,
              "#bd3786"
             ],
             [
              0.5555555555555556,
              "#d8576b"
             ],
             [
              0.6666666666666666,
              "#ed7953"
             ],
             [
              0.7777777777777778,
              "#fb9f3a"
             ],
             [
              0.8888888888888888,
              "#fdca26"
             ],
             [
              1,
              "#f0f921"
             ]
            ],
            "type": "heatmap"
           }
          ],
          "heatmapgl": [
           {
            "colorbar": {
             "outlinewidth": 0,
             "ticks": ""
            },
            "colorscale": [
             [
              0,
              "#0d0887"
             ],
             [
              0.1111111111111111,
              "#46039f"
             ],
             [
              0.2222222222222222,
              "#7201a8"
             ],
             [
              0.3333333333333333,
              "#9c179e"
             ],
             [
              0.4444444444444444,
              "#bd3786"
             ],
             [
              0.5555555555555556,
              "#d8576b"
             ],
             [
              0.6666666666666666,
              "#ed7953"
             ],
             [
              0.7777777777777778,
              "#fb9f3a"
             ],
             [
              0.8888888888888888,
              "#fdca26"
             ],
             [
              1,
              "#f0f921"
             ]
            ],
            "type": "heatmapgl"
           }
          ],
          "histogram": [
           {
            "marker": {
             "pattern": {
              "fillmode": "overlay",
              "size": 10,
              "solidity": 0.2
             }
            },
            "type": "histogram"
           }
          ],
          "histogram2d": [
           {
            "colorbar": {
             "outlinewidth": 0,
             "ticks": ""
            },
            "colorscale": [
             [
              0,
              "#0d0887"
             ],
             [
              0.1111111111111111,
              "#46039f"
             ],
             [
              0.2222222222222222,
              "#7201a8"
             ],
             [
              0.3333333333333333,
              "#9c179e"
             ],
             [
              0.4444444444444444,
              "#bd3786"
             ],
             [
              0.5555555555555556,
              "#d8576b"
             ],
             [
              0.6666666666666666,
              "#ed7953"
             ],
             [
              0.7777777777777778,
              "#fb9f3a"
             ],
             [
              0.8888888888888888,
              "#fdca26"
             ],
             [
              1,
              "#f0f921"
             ]
            ],
            "type": "histogram2d"
           }
          ],
          "histogram2dcontour": [
           {
            "colorbar": {
             "outlinewidth": 0,
             "ticks": ""
            },
            "colorscale": [
             [
              0,
              "#0d0887"
             ],
             [
              0.1111111111111111,
              "#46039f"
             ],
             [
              0.2222222222222222,
              "#7201a8"
             ],
             [
              0.3333333333333333,
              "#9c179e"
             ],
             [
              0.4444444444444444,
              "#bd3786"
             ],
             [
              0.5555555555555556,
              "#d8576b"
             ],
             [
              0.6666666666666666,
              "#ed7953"
             ],
             [
              0.7777777777777778,
              "#fb9f3a"
             ],
             [
              0.8888888888888888,
              "#fdca26"
             ],
             [
              1,
              "#f0f921"
             ]
            ],
            "type": "histogram2dcontour"
           }
          ],
          "mesh3d": [
           {
            "colorbar": {
             "outlinewidth": 0,
             "ticks": ""
            },
            "type": "mesh3d"
           }
          ],
          "parcoords": [
           {
            "line": {
             "colorbar": {
              "outlinewidth": 0,
              "ticks": ""
             }
            },
            "type": "parcoords"
           }
          ],
          "pie": [
           {
            "automargin": true,
            "type": "pie"
           }
          ],
          "scatter": [
           {
            "fillpattern": {
             "fillmode": "overlay",
             "size": 10,
             "solidity": 0.2
            },
            "type": "scatter"
           }
          ],
          "scatter3d": [
           {
            "line": {
             "colorbar": {
              "outlinewidth": 0,
              "ticks": ""
             }
            },
            "marker": {
             "colorbar": {
              "outlinewidth": 0,
              "ticks": ""
             }
            },
            "type": "scatter3d"
           }
          ],
          "scattercarpet": [
           {
            "marker": {
             "colorbar": {
              "outlinewidth": 0,
              "ticks": ""
             }
            },
            "type": "scattercarpet"
           }
          ],
          "scattergeo": [
           {
            "marker": {
             "colorbar": {
              "outlinewidth": 0,
              "ticks": ""
             }
            },
            "type": "scattergeo"
           }
          ],
          "scattergl": [
           {
            "marker": {
             "colorbar": {
              "outlinewidth": 0,
              "ticks": ""
             }
            },
            "type": "scattergl"
           }
          ],
          "scattermapbox": [
           {
            "marker": {
             "colorbar": {
              "outlinewidth": 0,
              "ticks": ""
             }
            },
            "type": "scattermapbox"
           }
          ],
          "scatterpolar": [
           {
            "marker": {
             "colorbar": {
              "outlinewidth": 0,
              "ticks": ""
             }
            },
            "type": "scatterpolar"
           }
          ],
          "scatterpolargl": [
           {
            "marker": {
             "colorbar": {
              "outlinewidth": 0,
              "ticks": ""
             }
            },
            "type": "scatterpolargl"
           }
          ],
          "scatterternary": [
           {
            "marker": {
             "colorbar": {
              "outlinewidth": 0,
              "ticks": ""
             }
            },
            "type": "scatterternary"
           }
          ],
          "surface": [
           {
            "colorbar": {
             "outlinewidth": 0,
             "ticks": ""
            },
            "colorscale": [
             [
              0,
              "#0d0887"
             ],
             [
              0.1111111111111111,
              "#46039f"
             ],
             [
              0.2222222222222222,
              "#7201a8"
             ],
             [
              0.3333333333333333,
              "#9c179e"
             ],
             [
              0.4444444444444444,
              "#bd3786"
             ],
             [
              0.5555555555555556,
              "#d8576b"
             ],
             [
              0.6666666666666666,
              "#ed7953"
             ],
             [
              0.7777777777777778,
              "#fb9f3a"
             ],
             [
              0.8888888888888888,
              "#fdca26"
             ],
             [
              1,
              "#f0f921"
             ]
            ],
            "type": "surface"
           }
          ],
          "table": [
           {
            "cells": {
             "fill": {
              "color": "#EBF0F8"
             },
             "line": {
              "color": "white"
             }
            },
            "header": {
             "fill": {
              "color": "#C8D4E3"
             },
             "line": {
              "color": "white"
             }
            },
            "type": "table"
           }
          ]
         },
         "layout": {
          "annotationdefaults": {
           "arrowcolor": "#2a3f5f",
           "arrowhead": 0,
           "arrowwidth": 1
          },
          "autotypenumbers": "strict",
          "coloraxis": {
           "colorbar": {
            "outlinewidth": 0,
            "ticks": ""
           }
          },
          "colorscale": {
           "diverging": [
            [
             0,
             "#8e0152"
            ],
            [
             0.1,
             "#c51b7d"
            ],
            [
             0.2,
             "#de77ae"
            ],
            [
             0.3,
             "#f1b6da"
            ],
            [
             0.4,
             "#fde0ef"
            ],
            [
             0.5,
             "#f7f7f7"
            ],
            [
             0.6,
             "#e6f5d0"
            ],
            [
             0.7,
             "#b8e186"
            ],
            [
             0.8,
             "#7fbc41"
            ],
            [
             0.9,
             "#4d9221"
            ],
            [
             1,
             "#276419"
            ]
           ],
           "sequential": [
            [
             0,
             "#0d0887"
            ],
            [
             0.1111111111111111,
             "#46039f"
            ],
            [
             0.2222222222222222,
             "#7201a8"
            ],
            [
             0.3333333333333333,
             "#9c179e"
            ],
            [
             0.4444444444444444,
             "#bd3786"
            ],
            [
             0.5555555555555556,
             "#d8576b"
            ],
            [
             0.6666666666666666,
             "#ed7953"
            ],
            [
             0.7777777777777778,
             "#fb9f3a"
            ],
            [
             0.8888888888888888,
             "#fdca26"
            ],
            [
             1,
             "#f0f921"
            ]
           ],
           "sequentialminus": [
            [
             0,
             "#0d0887"
            ],
            [
             0.1111111111111111,
             "#46039f"
            ],
            [
             0.2222222222222222,
             "#7201a8"
            ],
            [
             0.3333333333333333,
             "#9c179e"
            ],
            [
             0.4444444444444444,
             "#bd3786"
            ],
            [
             0.5555555555555556,
             "#d8576b"
            ],
            [
             0.6666666666666666,
             "#ed7953"
            ],
            [
             0.7777777777777778,
             "#fb9f3a"
            ],
            [
             0.8888888888888888,
             "#fdca26"
            ],
            [
             1,
             "#f0f921"
            ]
           ]
          },
          "colorway": [
           "#636efa",
           "#EF553B",
           "#00cc96",
           "#ab63fa",
           "#FFA15A",
           "#19d3f3",
           "#FF6692",
           "#B6E880",
           "#FF97FF",
           "#FECB52"
          ],
          "font": {
           "color": "#2a3f5f"
          },
          "geo": {
           "bgcolor": "white",
           "lakecolor": "white",
           "landcolor": "#E5ECF6",
           "showlakes": true,
           "showland": true,
           "subunitcolor": "white"
          },
          "hoverlabel": {
           "align": "left"
          },
          "hovermode": "closest",
          "mapbox": {
           "style": "light"
          },
          "paper_bgcolor": "white",
          "plot_bgcolor": "#E5ECF6",
          "polar": {
           "angularaxis": {
            "gridcolor": "white",
            "linecolor": "white",
            "ticks": ""
           },
           "bgcolor": "#E5ECF6",
           "radialaxis": {
            "gridcolor": "white",
            "linecolor": "white",
            "ticks": ""
           }
          },
          "scene": {
           "xaxis": {
            "backgroundcolor": "#E5ECF6",
            "gridcolor": "white",
            "gridwidth": 2,
            "linecolor": "white",
            "showbackground": true,
            "ticks": "",
            "zerolinecolor": "white"
           },
           "yaxis": {
            "backgroundcolor": "#E5ECF6",
            "gridcolor": "white",
            "gridwidth": 2,
            "linecolor": "white",
            "showbackground": true,
            "ticks": "",
            "zerolinecolor": "white"
           },
           "zaxis": {
            "backgroundcolor": "#E5ECF6",
            "gridcolor": "white",
            "gridwidth": 2,
            "linecolor": "white",
            "showbackground": true,
            "ticks": "",
            "zerolinecolor": "white"
           }
          },
          "shapedefaults": {
           "line": {
            "color": "#2a3f5f"
           }
          },
          "ternary": {
           "aaxis": {
            "gridcolor": "white",
            "linecolor": "white",
            "ticks": ""
           },
           "baxis": {
            "gridcolor": "white",
            "linecolor": "white",
            "ticks": ""
           },
           "bgcolor": "#E5ECF6",
           "caxis": {
            "gridcolor": "white",
            "linecolor": "white",
            "ticks": ""
           }
          },
          "title": {
           "x": 0.05
          },
          "xaxis": {
           "automargin": true,
           "gridcolor": "white",
           "linecolor": "white",
           "ticks": "",
           "title": {
            "standoff": 15
           },
           "zerolinecolor": "white",
           "zerolinewidth": 2
          },
          "yaxis": {
           "automargin": true,
           "gridcolor": "white",
           "linecolor": "white",
           "ticks": "",
           "title": {
            "standoff": 15
           },
           "zerolinecolor": "white",
           "zerolinewidth": 2
          }
         }
        },
        "title": {
         "text": "Número de Denúncias por Mês por Espécie de Tartaruga do Estado de Pernambuco (2015)"
        },
        "xaxis": {
         "anchor": "y",
         "categoryarray": [
          "Jan",
          "Fev",
          "Mar",
          "Abr",
          "Mai",
          "Jun",
          "Jul",
          "Ago",
          "Set",
          "Out",
          "Nov",
          "Dez"
         ],
         "categoryorder": "array",
         "domain": [
          0,
          1
         ],
         "title": {
          "text": "Mês"
         }
        },
        "yaxis": {
         "anchor": "x",
         "domain": [
          0,
          1
         ],
         "title": {
          "text": "Número de Denúncias"
         }
        }
       }
      }
     },
     "metadata": {},
     "output_type": "display_data"
    }
   ],
   "source": [
    "import pandas as pd\n",
    "import plotly.express as px\n",
    "\n",
    "# Ler o arquivo CSV\n",
    "a = pd.read_csv('RegistroPernambuco.csv', sep=',')\n",
    "\n",
    "# Converter a coluna \"Data do registro\" para o tipo de dado de data\n",
    "a['Data do registro'] = pd.to_datetime(a['Data do registro'], format='%d/%m/%Y')\n",
    "\n",
    "# Filtrar registros com datas após 2012\n",
    "a = a[a['Data do registro'].dt.year >= 2012]\n",
    "\n",
    "# Extrair o ano e o mês da coluna \"Data do registro\"\n",
    "a['Ano'] = a['Data do registro'].dt.year\n",
    "a['Mes'] = a['Data do registro'].dt.month\n",
    "\n",
    "# Mapear o número do mês para a sigla do mês\n",
    "meses_siglas = {\n",
    "    1: 'Jan', 2: 'Fev', 3: 'Mar', 4: 'Abr', 5: 'Mai', 6: 'Jun',\n",
    "    7: 'Jul', 8: 'Ago', 9: 'Set', 10: 'Out', 11: 'Nov', 12: 'Dez'\n",
    "}\n",
    "a['Sigla Mes'] = a['Mes'].map(meses_siglas)\n",
    "\n",
    "# Agrupar os dados por ano, mês, espécies de tartarugas e \"nome comum\" e contar o número de denúncias em cada grupo\n",
    "contagem_por_ano_mes_especie_nome_comum = a.groupby(['Ano', 'Sigla Mes', 'Nome cientifico na base de dados', 'Nome comum']).size().reset_index(name='Contagem')\n",
    "\n",
    "# Criar gráficos separados para cada ano\n",
    "for ano in contagem_por_ano_mes_especie_nome_comum['Ano'].unique():\n",
    "    data_ano = contagem_por_ano_mes_especie_nome_comum[contagem_por_ano_mes_especie_nome_comum['Ano'] == ano]\n",
    "    fig = px.bar(data_ano, x='Sigla Mes', y='Contagem', color='Nome comum', text='Contagem',\n",
    "                 category_orders={\"Sigla Mes\": ['Jan', 'Fev', 'Mar', 'Abr', 'Mai', 'Jun', 'Jul', 'Ago', 'Set', 'Out', 'Nov', 'Dez']})\n",
    "\n",
    "    # Configurações adicionais do layout do gráfico\n",
    "    fig.update_layout(title=f'Número de Denúncias por Mês por Espécie de Tartaruga do Estado de Pernambuco ({ano})',\n",
    "                      xaxis_title='Mês',\n",
    "                      yaxis_title='Número de Denúncias',\n",
    "                      legend_title='Nome Comum')\n",
    "\n",
    "    # Ajustar a posição do texto dos valores para sempre aparecer na horizontal em cima de cada barra\n",
    "    fig.update_traces(texttemplate='%{text}', textposition='outside')\n",
    "\n",
    "    # Exibir o gráfico interativo\n",
    "    fig.show()\n"
   ]
  },
  {
   "cell_type": "code",
   "execution_count": null,
   "metadata": {},
   "outputs": [
    {
     "data": {
      "image/png": "[encoded data removed]",
      "text/plain": [
       "<Figure size 1200x600 with 1 Axes>"
      ]
     },
     "metadata": {},
     "output_type": "display_data"
    }
   ],
   "source": [
    "import pandas as pd\n",
    "import matplotlib.pyplot as plt\n",
    "\n",
    "df = pd.read_csv('RegistroPernambuco.csv')\n",
    "\n",
    "# Converter a coluna de data para o formato correto de data/hora\n",
    "df['Data do registro'] = pd.to_datetime(df['Data do registro'], format='%d/%m/%Y')\n",
    "\n",
    "# Filtrar registros a partir de 2010\n",
    "df = df[df['Data do registro'].dt.year >= 2010]\n",
    "\n",
    "# Contagem de ocorrências de cada localidade\n",
    "contagem_localidades = df['Localidade'].value_counts()\n",
    "\n",
    "# Selecionar as 10 localidades mais ocorridas\n",
    "localidades_mais_ocorridas = contagem_localidades.nlargest(10)\n",
    "\n",
    "# Criar o gráfico de barras com as localidades mais ocorridas\n",
    "plt.figure(figsize=(12, 6))\n",
    "localidades_mais_ocorridas.plot(kind='bar', alpha=0.6)\n",
    "plt.xlabel('Localidade')\n",
    "plt.ylabel('Número de ocorrências')\n",
    "plt.title('Localidades com maior quantidade de denúncias partir de 2010')\n",
    "plt.show()\n"
   ]
  }
 ],
 "metadata": {
  "kernelspec": {
   "display_name": "Python 3",
   "language": "python",
   "name": "python3"
  },
  "language_info": {
   "codemirror_mode": {
    "name": "ipython",
    "version": 3
   },
   "file_extension": ".py",
   "mimetype": "text/x-python",
   "name": "python",
   "nbconvert_exporter": "python",
   "pygments_lexer": "ipython3",
   "version": "3.11.5"
  },
  "orig_nbformat": 4
 },
 "nbformat": 4,
 "nbformat_minor": 2
}
